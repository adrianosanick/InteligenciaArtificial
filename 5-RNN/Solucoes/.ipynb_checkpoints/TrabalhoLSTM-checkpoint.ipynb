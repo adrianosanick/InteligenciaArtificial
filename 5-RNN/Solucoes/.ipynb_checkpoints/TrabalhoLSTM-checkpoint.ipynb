{
 "cells": [
  {
   "cell_type": "markdown",
   "metadata": {},
   "source": [
    "## Modelo Futuros Mini Ibovespa - Dados Históricos\n",
    "\n",
    "\n",
    "O Mercado Futuro é o ambiente onde você pode ganhar com a alta ou baixa de um determinado ativo, seja ele uma commodity (Milho, Café, Boi Gordo), uma moeda (como o dólar), um Índice (Bovespa, Índice S&P 500) ou mesmo uma taxa de juros. Nele, são negociados contratos futuros.\n",
    "\n",
    "<br><img src=\"grafico.jpeg\"><br>\n",
    "\n",
    "O mini índice é um contrato futuro derivado do Índice Bovespa, ou seja, é um ativo que tem como base o sobe e desce desse índice. Como esse tipo de operação envolve **risco considerável** e **oscilações frequentes no mercado**, ela é indicada apenas para aqueles que se encaixam no perfil de investidor arrojado.\n",
    "\n",
    "Neste trabalho iremos implementar uma RNNs para realizar a predição diária do Mini Índice da Ibovespa.\n",
    "\n",
    "O dataset **\"FuturosMiniBovespa.csv\"** possui informações dispostas em colunas :\n",
    "\n",
    "* **Date**:  Data das operações na bolsa (diária)\n",
    "* **Close**:  Valor de Fechamento do Índice da Ibovespa (no dia)\n",
    "* **Open**:  Valor da Abertura do Índice da Ibovespa (no dia)\n",
    "* **High**:  Valor máximo do Índice da Ibovespa (no dia)\n",
    "* **Low**:  Valor mínimo do Índice da Ibovespa (no dia)\n",
    "* **Vol**:  Volume de contratos negociados (no dia)\n",
    "\n",
    "\n",
    "\n",
    "\n",
    "### Bibliotecas"
   ]
  },
  {
   "cell_type": "code",
   "execution_count": 84,
   "metadata": {},
   "outputs": [],
   "source": [
    "import pandas as pd\n",
    "from keras.models import Sequential\n",
    "from keras.layers import Dense, Dropout, LSTM\n",
    "from keras.callbacks import EarlyStopping, ReduceLROnPlateau, ModelCheckpoint\n",
    "\n",
    "import plotly.graph_objects as go \n",
    "from matplotlib.pylab import rcParams\n",
    "rcParams ['figure.figsize'] = 20,10\n",
    "\n",
    "import numpy as np\n",
    "import matplotlib.pyplot as plt\n",
    "import seaborn as sns\n",
    "%matplotlib inline"
   ]
  },
  {
   "cell_type": "markdown",
   "metadata": {},
   "source": [
    "### Carregando os dados\n",
    "\n",
    "Vamos começar lendo o arquivo FuturosMiniBovespa.csv em um dataframe do pandas, mas antes vamos dar uma olhadinha no gráfico de variação do último mês do índice Ibovespa."
   ]
  },
  {
   "cell_type": "code",
   "execution_count": 85,
   "metadata": {},
   "outputs": [],
   "source": [
    "DataSet=pd.read_csv('Futuros Mini Ibovespa - teste.csv')"
   ]
  },
  {
   "cell_type": "code",
   "execution_count": 86,
   "metadata": {},
   "outputs": [
    {
     "data": {
      "application/vnd.plotly.v1+json": {
       "config": {
        "plotlyServerURL": "https://plot.ly"
       },
       "data": [
        {
         "close": [
          115253,
          117518,
          117499,
          117624,
          118313,
          117670,
          118812,
          119297,
          120295,
          120701,
          121114,
          120934,
          120062,
          119371,
          120530,
          120595,
          119388,
          121053
         ],
         "high": [
          117088,
          117668,
          118213,
          118303,
          118850,
          118643,
          118812,
          119529,
          120871,
          121409,
          121333,
          121974,
          121354,
          120995,
          120815,
          121393,
          121012,
          121276
         ],
         "low": [
          114991,
          115262,
          117176,
          116748,
          117486,
          117336,
          117661,
          118041,
          119298,
          120084,
          120199,
          120682,
          119841,
          119203,
          119372,
          119860,
          119003,
          119392
         ],
         "open": [
          116644,
          115262,
          117519,
          117499,
          117624,
          118313,
          117661,
          118809,
          119298,
          120290,
          120701,
          121116,
          120925,
          120064,
          119372,
          120534,
          120595,
          119392
         ],
         "type": "candlestick",
         "x": [
          "2021-04-01",
          "2021-04-05",
          "2021-04-06",
          "2021-04-07",
          "2021-04-08",
          "2021-04-09",
          "2021-04-12",
          "2021-04-13",
          "2021-04-14",
          "2021-04-15",
          "2021-04-16",
          "2021-04-19",
          "2021-04-20",
          "2021-04-22",
          "2021-04-23",
          "2021-04-26",
          "2021-04-27",
          "2021-04-28"
         ]
        }
       ],
       "layout": {
        "template": {
         "data": {
          "bar": [
           {
            "error_x": {
             "color": "#2a3f5f"
            },
            "error_y": {
             "color": "#2a3f5f"
            },
            "marker": {
             "line": {
              "color": "#E5ECF6",
              "width": 0.5
             }
            },
            "type": "bar"
           }
          ],
          "barpolar": [
           {
            "marker": {
             "line": {
              "color": "#E5ECF6",
              "width": 0.5
             }
            },
            "type": "barpolar"
           }
          ],
          "carpet": [
           {
            "aaxis": {
             "endlinecolor": "#2a3f5f",
             "gridcolor": "white",
             "linecolor": "white",
             "minorgridcolor": "white",
             "startlinecolor": "#2a3f5f"
            },
            "baxis": {
             "endlinecolor": "#2a3f5f",
             "gridcolor": "white",
             "linecolor": "white",
             "minorgridcolor": "white",
             "startlinecolor": "#2a3f5f"
            },
            "type": "carpet"
           }
          ],
          "choropleth": [
           {
            "colorbar": {
             "outlinewidth": 0,
             "ticks": ""
            },
            "type": "choropleth"
           }
          ],
          "contour": [
           {
            "colorbar": {
             "outlinewidth": 0,
             "ticks": ""
            },
            "colorscale": [
             [
              0,
              "#0d0887"
             ],
             [
              0.1111111111111111,
              "#46039f"
             ],
             [
              0.2222222222222222,
              "#7201a8"
             ],
             [
              0.3333333333333333,
              "#9c179e"
             ],
             [
              0.4444444444444444,
              "#bd3786"
             ],
             [
              0.5555555555555556,
              "#d8576b"
             ],
             [
              0.6666666666666666,
              "#ed7953"
             ],
             [
              0.7777777777777778,
              "#fb9f3a"
             ],
             [
              0.8888888888888888,
              "#fdca26"
             ],
             [
              1,
              "#f0f921"
             ]
            ],
            "type": "contour"
           }
          ],
          "contourcarpet": [
           {
            "colorbar": {
             "outlinewidth": 0,
             "ticks": ""
            },
            "type": "contourcarpet"
           }
          ],
          "heatmap": [
           {
            "colorbar": {
             "outlinewidth": 0,
             "ticks": ""
            },
            "colorscale": [
             [
              0,
              "#0d0887"
             ],
             [
              0.1111111111111111,
              "#46039f"
             ],
             [
              0.2222222222222222,
              "#7201a8"
             ],
             [
              0.3333333333333333,
              "#9c179e"
             ],
             [
              0.4444444444444444,
              "#bd3786"
             ],
             [
              0.5555555555555556,
              "#d8576b"
             ],
             [
              0.6666666666666666,
              "#ed7953"
             ],
             [
              0.7777777777777778,
              "#fb9f3a"
             ],
             [
              0.8888888888888888,
              "#fdca26"
             ],
             [
              1,
              "#f0f921"
             ]
            ],
            "type": "heatmap"
           }
          ],
          "heatmapgl": [
           {
            "colorbar": {
             "outlinewidth": 0,
             "ticks": ""
            },
            "colorscale": [
             [
              0,
              "#0d0887"
             ],
             [
              0.1111111111111111,
              "#46039f"
             ],
             [
              0.2222222222222222,
              "#7201a8"
             ],
             [
              0.3333333333333333,
              "#9c179e"
             ],
             [
              0.4444444444444444,
              "#bd3786"
             ],
             [
              0.5555555555555556,
              "#d8576b"
             ],
             [
              0.6666666666666666,
              "#ed7953"
             ],
             [
              0.7777777777777778,
              "#fb9f3a"
             ],
             [
              0.8888888888888888,
              "#fdca26"
             ],
             [
              1,
              "#f0f921"
             ]
            ],
            "type": "heatmapgl"
           }
          ],
          "histogram": [
           {
            "marker": {
             "colorbar": {
              "outlinewidth": 0,
              "ticks": ""
             }
            },
            "type": "histogram"
           }
          ],
          "histogram2d": [
           {
            "colorbar": {
             "outlinewidth": 0,
             "ticks": ""
            },
            "colorscale": [
             [
              0,
              "#0d0887"
             ],
             [
              0.1111111111111111,
              "#46039f"
             ],
             [
              0.2222222222222222,
              "#7201a8"
             ],
             [
              0.3333333333333333,
              "#9c179e"
             ],
             [
              0.4444444444444444,
              "#bd3786"
             ],
             [
              0.5555555555555556,
              "#d8576b"
             ],
             [
              0.6666666666666666,
              "#ed7953"
             ],
             [
              0.7777777777777778,
              "#fb9f3a"
             ],
             [
              0.8888888888888888,
              "#fdca26"
             ],
             [
              1,
              "#f0f921"
             ]
            ],
            "type": "histogram2d"
           }
          ],
          "histogram2dcontour": [
           {
            "colorbar": {
             "outlinewidth": 0,
             "ticks": ""
            },
            "colorscale": [
             [
              0,
              "#0d0887"
             ],
             [
              0.1111111111111111,
              "#46039f"
             ],
             [
              0.2222222222222222,
              "#7201a8"
             ],
             [
              0.3333333333333333,
              "#9c179e"
             ],
             [
              0.4444444444444444,
              "#bd3786"
             ],
             [
              0.5555555555555556,
              "#d8576b"
             ],
             [
              0.6666666666666666,
              "#ed7953"
             ],
             [
              0.7777777777777778,
              "#fb9f3a"
             ],
             [
              0.8888888888888888,
              "#fdca26"
             ],
             [
              1,
              "#f0f921"
             ]
            ],
            "type": "histogram2dcontour"
           }
          ],
          "mesh3d": [
           {
            "colorbar": {
             "outlinewidth": 0,
             "ticks": ""
            },
            "type": "mesh3d"
           }
          ],
          "parcoords": [
           {
            "line": {
             "colorbar": {
              "outlinewidth": 0,
              "ticks": ""
             }
            },
            "type": "parcoords"
           }
          ],
          "scatter": [
           {
            "marker": {
             "colorbar": {
              "outlinewidth": 0,
              "ticks": ""
             }
            },
            "type": "scatter"
           }
          ],
          "scatter3d": [
           {
            "line": {
             "colorbar": {
              "outlinewidth": 0,
              "ticks": ""
             }
            },
            "marker": {
             "colorbar": {
              "outlinewidth": 0,
              "ticks": ""
             }
            },
            "type": "scatter3d"
           }
          ],
          "scattercarpet": [
           {
            "marker": {
             "colorbar": {
              "outlinewidth": 0,
              "ticks": ""
             }
            },
            "type": "scattercarpet"
           }
          ],
          "scattergeo": [
           {
            "marker": {
             "colorbar": {
              "outlinewidth": 0,
              "ticks": ""
             }
            },
            "type": "scattergeo"
           }
          ],
          "scattergl": [
           {
            "marker": {
             "colorbar": {
              "outlinewidth": 0,
              "ticks": ""
             }
            },
            "type": "scattergl"
           }
          ],
          "scattermapbox": [
           {
            "marker": {
             "colorbar": {
              "outlinewidth": 0,
              "ticks": ""
             }
            },
            "type": "scattermapbox"
           }
          ],
          "scatterpolar": [
           {
            "marker": {
             "colorbar": {
              "outlinewidth": 0,
              "ticks": ""
             }
            },
            "type": "scatterpolar"
           }
          ],
          "scatterpolargl": [
           {
            "marker": {
             "colorbar": {
              "outlinewidth": 0,
              "ticks": ""
             }
            },
            "type": "scatterpolargl"
           }
          ],
          "scatterternary": [
           {
            "marker": {
             "colorbar": {
              "outlinewidth": 0,
              "ticks": ""
             }
            },
            "type": "scatterternary"
           }
          ],
          "surface": [
           {
            "colorbar": {
             "outlinewidth": 0,
             "ticks": ""
            },
            "colorscale": [
             [
              0,
              "#0d0887"
             ],
             [
              0.1111111111111111,
              "#46039f"
             ],
             [
              0.2222222222222222,
              "#7201a8"
             ],
             [
              0.3333333333333333,
              "#9c179e"
             ],
             [
              0.4444444444444444,
              "#bd3786"
             ],
             [
              0.5555555555555556,
              "#d8576b"
             ],
             [
              0.6666666666666666,
              "#ed7953"
             ],
             [
              0.7777777777777778,
              "#fb9f3a"
             ],
             [
              0.8888888888888888,
              "#fdca26"
             ],
             [
              1,
              "#f0f921"
             ]
            ],
            "type": "surface"
           }
          ],
          "table": [
           {
            "cells": {
             "fill": {
              "color": "#EBF0F8"
             },
             "line": {
              "color": "white"
             }
            },
            "header": {
             "fill": {
              "color": "#C8D4E3"
             },
             "line": {
              "color": "white"
             }
            },
            "type": "table"
           }
          ]
         },
         "layout": {
          "annotationdefaults": {
           "arrowcolor": "#2a3f5f",
           "arrowhead": 0,
           "arrowwidth": 1
          },
          "colorscale": {
           "diverging": [
            [
             0,
             "#8e0152"
            ],
            [
             0.1,
             "#c51b7d"
            ],
            [
             0.2,
             "#de77ae"
            ],
            [
             0.3,
             "#f1b6da"
            ],
            [
             0.4,
             "#fde0ef"
            ],
            [
             0.5,
             "#f7f7f7"
            ],
            [
             0.6,
             "#e6f5d0"
            ],
            [
             0.7,
             "#b8e186"
            ],
            [
             0.8,
             "#7fbc41"
            ],
            [
             0.9,
             "#4d9221"
            ],
            [
             1,
             "#276419"
            ]
           ],
           "sequential": [
            [
             0,
             "#0d0887"
            ],
            [
             0.1111111111111111,
             "#46039f"
            ],
            [
             0.2222222222222222,
             "#7201a8"
            ],
            [
             0.3333333333333333,
             "#9c179e"
            ],
            [
             0.4444444444444444,
             "#bd3786"
            ],
            [
             0.5555555555555556,
             "#d8576b"
            ],
            [
             0.6666666666666666,
             "#ed7953"
            ],
            [
             0.7777777777777778,
             "#fb9f3a"
            ],
            [
             0.8888888888888888,
             "#fdca26"
            ],
            [
             1,
             "#f0f921"
            ]
           ],
           "sequentialminus": [
            [
             0,
             "#0d0887"
            ],
            [
             0.1111111111111111,
             "#46039f"
            ],
            [
             0.2222222222222222,
             "#7201a8"
            ],
            [
             0.3333333333333333,
             "#9c179e"
            ],
            [
             0.4444444444444444,
             "#bd3786"
            ],
            [
             0.5555555555555556,
             "#d8576b"
            ],
            [
             0.6666666666666666,
             "#ed7953"
            ],
            [
             0.7777777777777778,
             "#fb9f3a"
            ],
            [
             0.8888888888888888,
             "#fdca26"
            ],
            [
             1,
             "#f0f921"
            ]
           ]
          },
          "colorway": [
           "#636efa",
           "#EF553B",
           "#00cc96",
           "#ab63fa",
           "#FFA15A",
           "#19d3f3",
           "#FF6692",
           "#B6E880",
           "#FF97FF",
           "#FECB52"
          ],
          "font": {
           "color": "#2a3f5f"
          },
          "geo": {
           "bgcolor": "white",
           "lakecolor": "white",
           "landcolor": "#E5ECF6",
           "showlakes": true,
           "showland": true,
           "subunitcolor": "white"
          },
          "hoverlabel": {
           "align": "left"
          },
          "hovermode": "closest",
          "mapbox": {
           "style": "light"
          },
          "paper_bgcolor": "white",
          "plot_bgcolor": "#E5ECF6",
          "polar": {
           "angularaxis": {
            "gridcolor": "white",
            "linecolor": "white",
            "ticks": ""
           },
           "bgcolor": "#E5ECF6",
           "radialaxis": {
            "gridcolor": "white",
            "linecolor": "white",
            "ticks": ""
           }
          },
          "scene": {
           "xaxis": {
            "backgroundcolor": "#E5ECF6",
            "gridcolor": "white",
            "gridwidth": 2,
            "linecolor": "white",
            "showbackground": true,
            "ticks": "",
            "zerolinecolor": "white"
           },
           "yaxis": {
            "backgroundcolor": "#E5ECF6",
            "gridcolor": "white",
            "gridwidth": 2,
            "linecolor": "white",
            "showbackground": true,
            "ticks": "",
            "zerolinecolor": "white"
           },
           "zaxis": {
            "backgroundcolor": "#E5ECF6",
            "gridcolor": "white",
            "gridwidth": 2,
            "linecolor": "white",
            "showbackground": true,
            "ticks": "",
            "zerolinecolor": "white"
           }
          },
          "shapedefaults": {
           "line": {
            "color": "#2a3f5f"
           }
          },
          "ternary": {
           "aaxis": {
            "gridcolor": "white",
            "linecolor": "white",
            "ticks": ""
           },
           "baxis": {
            "gridcolor": "white",
            "linecolor": "white",
            "ticks": ""
           },
           "bgcolor": "#E5ECF6",
           "caxis": {
            "gridcolor": "white",
            "linecolor": "white",
            "ticks": ""
           }
          },
          "title": {
           "x": 0.05
          },
          "xaxis": {
           "automargin": true,
           "gridcolor": "white",
           "linecolor": "white",
           "ticks": "",
           "zerolinecolor": "white",
           "zerolinewidth": 2
          },
          "yaxis": {
           "automargin": true,
           "gridcolor": "white",
           "linecolor": "white",
           "ticks": "",
           "zerolinecolor": "white",
           "zerolinewidth": 2
          }
         }
        },
        "xaxis": {
         "rangeslider": {
          "visible": false
         }
        }
       }
      },
      "text/html": [
       "<div>\n",
       "        \n",
       "        \n",
       "            <div id=\"c86bbba7-011b-47c4-a0b3-b54206a80bad\" class=\"plotly-graph-div\" style=\"height:525px; width:100%;\"></div>\n",
       "            <script type=\"text/javascript\">\n",
       "                require([\"plotly\"], function(Plotly) {\n",
       "                    window.PLOTLYENV=window.PLOTLYENV || {};\n",
       "                    \n",
       "                if (document.getElementById(\"c86bbba7-011b-47c4-a0b3-b54206a80bad\")) {\n",
       "                    Plotly.newPlot(\n",
       "                        'c86bbba7-011b-47c4-a0b3-b54206a80bad',\n",
       "                        [{\"close\": [115253.0, 117518.0, 117499.0, 117624.0, 118313.0, 117670.0, 118812.0, 119297.0, 120295.0, 120701.0, 121114.0, 120934.0, 120062.0, 119371.0, 120530.0, 120595.0, 119388.0, 121053.0], \"high\": [117088.0, 117668.0, 118213.0, 118303.0, 118850.0, 118643.0, 118812.0, 119529.0, 120871.0, 121409.0, 121333.0, 121974.0, 121354.0, 120995.0, 120815.0, 121393.0, 121012.0, 121276.0], \"low\": [114991.0, 115262.0, 117176.0, 116748.0, 117486.0, 117336.0, 117661.0, 118041.0, 119298.0, 120084.0, 120199.0, 120682.0, 119841.0, 119203.0, 119372.0, 119860.0, 119003.0, 119392.0], \"open\": [116644.0, 115262.0, 117519.0, 117499.0, 117624.0, 118313.0, 117661.0, 118809.0, 119298.0, 120290.0, 120701.0, 121116.0, 120925.0, 120064.0, 119372.0, 120534.0, 120595.0, 119392.0], \"type\": \"candlestick\", \"x\": [\"2021-04-01\", \"2021-04-05\", \"2021-04-06\", \"2021-04-07\", \"2021-04-08\", \"2021-04-09\", \"2021-04-12\", \"2021-04-13\", \"2021-04-14\", \"2021-04-15\", \"2021-04-16\", \"2021-04-19\", \"2021-04-20\", \"2021-04-22\", \"2021-04-23\", \"2021-04-26\", \"2021-04-27\", \"2021-04-28\"]}],\n",
       "                        {\"template\": {\"data\": {\"bar\": [{\"error_x\": {\"color\": \"#2a3f5f\"}, \"error_y\": {\"color\": \"#2a3f5f\"}, \"marker\": {\"line\": {\"color\": \"#E5ECF6\", \"width\": 0.5}}, \"type\": \"bar\"}], \"barpolar\": [{\"marker\": {\"line\": {\"color\": \"#E5ECF6\", \"width\": 0.5}}, \"type\": \"barpolar\"}], \"carpet\": [{\"aaxis\": {\"endlinecolor\": \"#2a3f5f\", \"gridcolor\": \"white\", \"linecolor\": \"white\", \"minorgridcolor\": \"white\", \"startlinecolor\": \"#2a3f5f\"}, \"baxis\": {\"endlinecolor\": \"#2a3f5f\", \"gridcolor\": \"white\", \"linecolor\": \"white\", \"minorgridcolor\": \"white\", \"startlinecolor\": \"#2a3f5f\"}, \"type\": \"carpet\"}], \"choropleth\": [{\"colorbar\": {\"outlinewidth\": 0, \"ticks\": \"\"}, \"type\": \"choropleth\"}], \"contour\": [{\"colorbar\": {\"outlinewidth\": 0, \"ticks\": \"\"}, \"colorscale\": [[0.0, \"#0d0887\"], [0.1111111111111111, \"#46039f\"], [0.2222222222222222, \"#7201a8\"], [0.3333333333333333, \"#9c179e\"], [0.4444444444444444, \"#bd3786\"], [0.5555555555555556, \"#d8576b\"], [0.6666666666666666, \"#ed7953\"], [0.7777777777777778, \"#fb9f3a\"], [0.8888888888888888, \"#fdca26\"], [1.0, \"#f0f921\"]], \"type\": \"contour\"}], \"contourcarpet\": [{\"colorbar\": {\"outlinewidth\": 0, \"ticks\": \"\"}, \"type\": \"contourcarpet\"}], \"heatmap\": [{\"colorbar\": {\"outlinewidth\": 0, \"ticks\": \"\"}, \"colorscale\": [[0.0, \"#0d0887\"], [0.1111111111111111, \"#46039f\"], [0.2222222222222222, \"#7201a8\"], [0.3333333333333333, \"#9c179e\"], [0.4444444444444444, \"#bd3786\"], [0.5555555555555556, \"#d8576b\"], [0.6666666666666666, \"#ed7953\"], [0.7777777777777778, \"#fb9f3a\"], [0.8888888888888888, \"#fdca26\"], [1.0, \"#f0f921\"]], \"type\": \"heatmap\"}], \"heatmapgl\": [{\"colorbar\": {\"outlinewidth\": 0, \"ticks\": \"\"}, \"colorscale\": [[0.0, \"#0d0887\"], [0.1111111111111111, \"#46039f\"], [0.2222222222222222, \"#7201a8\"], [0.3333333333333333, \"#9c179e\"], [0.4444444444444444, \"#bd3786\"], [0.5555555555555556, \"#d8576b\"], [0.6666666666666666, \"#ed7953\"], [0.7777777777777778, \"#fb9f3a\"], [0.8888888888888888, \"#fdca26\"], [1.0, \"#f0f921\"]], \"type\": \"heatmapgl\"}], \"histogram\": [{\"marker\": {\"colorbar\": {\"outlinewidth\": 0, \"ticks\": \"\"}}, \"type\": \"histogram\"}], \"histogram2d\": [{\"colorbar\": {\"outlinewidth\": 0, \"ticks\": \"\"}, \"colorscale\": [[0.0, \"#0d0887\"], [0.1111111111111111, \"#46039f\"], [0.2222222222222222, \"#7201a8\"], [0.3333333333333333, \"#9c179e\"], [0.4444444444444444, \"#bd3786\"], [0.5555555555555556, \"#d8576b\"], [0.6666666666666666, \"#ed7953\"], [0.7777777777777778, \"#fb9f3a\"], [0.8888888888888888, \"#fdca26\"], [1.0, \"#f0f921\"]], \"type\": \"histogram2d\"}], \"histogram2dcontour\": [{\"colorbar\": {\"outlinewidth\": 0, \"ticks\": \"\"}, \"colorscale\": [[0.0, \"#0d0887\"], [0.1111111111111111, \"#46039f\"], [0.2222222222222222, \"#7201a8\"], [0.3333333333333333, \"#9c179e\"], [0.4444444444444444, \"#bd3786\"], [0.5555555555555556, \"#d8576b\"], [0.6666666666666666, \"#ed7953\"], [0.7777777777777778, \"#fb9f3a\"], [0.8888888888888888, \"#fdca26\"], [1.0, \"#f0f921\"]], \"type\": \"histogram2dcontour\"}], \"mesh3d\": [{\"colorbar\": {\"outlinewidth\": 0, \"ticks\": \"\"}, \"type\": \"mesh3d\"}], \"parcoords\": [{\"line\": {\"colorbar\": {\"outlinewidth\": 0, \"ticks\": \"\"}}, \"type\": \"parcoords\"}], \"scatter\": [{\"marker\": {\"colorbar\": {\"outlinewidth\": 0, \"ticks\": \"\"}}, \"type\": \"scatter\"}], \"scatter3d\": [{\"line\": {\"colorbar\": {\"outlinewidth\": 0, \"ticks\": \"\"}}, \"marker\": {\"colorbar\": {\"outlinewidth\": 0, \"ticks\": \"\"}}, \"type\": \"scatter3d\"}], \"scattercarpet\": [{\"marker\": {\"colorbar\": {\"outlinewidth\": 0, \"ticks\": \"\"}}, \"type\": \"scattercarpet\"}], \"scattergeo\": [{\"marker\": {\"colorbar\": {\"outlinewidth\": 0, \"ticks\": \"\"}}, \"type\": \"scattergeo\"}], \"scattergl\": [{\"marker\": {\"colorbar\": {\"outlinewidth\": 0, \"ticks\": \"\"}}, \"type\": \"scattergl\"}], \"scattermapbox\": [{\"marker\": {\"colorbar\": {\"outlinewidth\": 0, \"ticks\": \"\"}}, \"type\": \"scattermapbox\"}], \"scatterpolar\": [{\"marker\": {\"colorbar\": {\"outlinewidth\": 0, \"ticks\": \"\"}}, \"type\": \"scatterpolar\"}], \"scatterpolargl\": [{\"marker\": {\"colorbar\": {\"outlinewidth\": 0, \"ticks\": \"\"}}, \"type\": \"scatterpolargl\"}], \"scatterternary\": [{\"marker\": {\"colorbar\": {\"outlinewidth\": 0, \"ticks\": \"\"}}, \"type\": \"scatterternary\"}], \"surface\": [{\"colorbar\": {\"outlinewidth\": 0, \"ticks\": \"\"}, \"colorscale\": [[0.0, \"#0d0887\"], [0.1111111111111111, \"#46039f\"], [0.2222222222222222, \"#7201a8\"], [0.3333333333333333, \"#9c179e\"], [0.4444444444444444, \"#bd3786\"], [0.5555555555555556, \"#d8576b\"], [0.6666666666666666, \"#ed7953\"], [0.7777777777777778, \"#fb9f3a\"], [0.8888888888888888, \"#fdca26\"], [1.0, \"#f0f921\"]], \"type\": \"surface\"}], \"table\": [{\"cells\": {\"fill\": {\"color\": \"#EBF0F8\"}, \"line\": {\"color\": \"white\"}}, \"header\": {\"fill\": {\"color\": \"#C8D4E3\"}, \"line\": {\"color\": \"white\"}}, \"type\": \"table\"}]}, \"layout\": {\"annotationdefaults\": {\"arrowcolor\": \"#2a3f5f\", \"arrowhead\": 0, \"arrowwidth\": 1}, \"colorscale\": {\"diverging\": [[0, \"#8e0152\"], [0.1, \"#c51b7d\"], [0.2, \"#de77ae\"], [0.3, \"#f1b6da\"], [0.4, \"#fde0ef\"], [0.5, \"#f7f7f7\"], [0.6, \"#e6f5d0\"], [0.7, \"#b8e186\"], [0.8, \"#7fbc41\"], [0.9, \"#4d9221\"], [1, \"#276419\"]], \"sequential\": [[0.0, \"#0d0887\"], [0.1111111111111111, \"#46039f\"], [0.2222222222222222, \"#7201a8\"], [0.3333333333333333, \"#9c179e\"], [0.4444444444444444, \"#bd3786\"], [0.5555555555555556, \"#d8576b\"], [0.6666666666666666, \"#ed7953\"], [0.7777777777777778, \"#fb9f3a\"], [0.8888888888888888, \"#fdca26\"], [1.0, \"#f0f921\"]], \"sequentialminus\": [[0.0, \"#0d0887\"], [0.1111111111111111, \"#46039f\"], [0.2222222222222222, \"#7201a8\"], [0.3333333333333333, \"#9c179e\"], [0.4444444444444444, \"#bd3786\"], [0.5555555555555556, \"#d8576b\"], [0.6666666666666666, \"#ed7953\"], [0.7777777777777778, \"#fb9f3a\"], [0.8888888888888888, \"#fdca26\"], [1.0, \"#f0f921\"]]}, \"colorway\": [\"#636efa\", \"#EF553B\", \"#00cc96\", \"#ab63fa\", \"#FFA15A\", \"#19d3f3\", \"#FF6692\", \"#B6E880\", \"#FF97FF\", \"#FECB52\"], \"font\": {\"color\": \"#2a3f5f\"}, \"geo\": {\"bgcolor\": \"white\", \"lakecolor\": \"white\", \"landcolor\": \"#E5ECF6\", \"showlakes\": true, \"showland\": true, \"subunitcolor\": \"white\"}, \"hoverlabel\": {\"align\": \"left\"}, \"hovermode\": \"closest\", \"mapbox\": {\"style\": \"light\"}, \"paper_bgcolor\": \"white\", \"plot_bgcolor\": \"#E5ECF6\", \"polar\": {\"angularaxis\": {\"gridcolor\": \"white\", \"linecolor\": \"white\", \"ticks\": \"\"}, \"bgcolor\": \"#E5ECF6\", \"radialaxis\": {\"gridcolor\": \"white\", \"linecolor\": \"white\", \"ticks\": \"\"}}, \"scene\": {\"xaxis\": {\"backgroundcolor\": \"#E5ECF6\", \"gridcolor\": \"white\", \"gridwidth\": 2, \"linecolor\": \"white\", \"showbackground\": true, \"ticks\": \"\", \"zerolinecolor\": \"white\"}, \"yaxis\": {\"backgroundcolor\": \"#E5ECF6\", \"gridcolor\": \"white\", \"gridwidth\": 2, \"linecolor\": \"white\", \"showbackground\": true, \"ticks\": \"\", \"zerolinecolor\": \"white\"}, \"zaxis\": {\"backgroundcolor\": \"#E5ECF6\", \"gridcolor\": \"white\", \"gridwidth\": 2, \"linecolor\": \"white\", \"showbackground\": true, \"ticks\": \"\", \"zerolinecolor\": \"white\"}}, \"shapedefaults\": {\"line\": {\"color\": \"#2a3f5f\"}}, \"ternary\": {\"aaxis\": {\"gridcolor\": \"white\", \"linecolor\": \"white\", \"ticks\": \"\"}, \"baxis\": {\"gridcolor\": \"white\", \"linecolor\": \"white\", \"ticks\": \"\"}, \"bgcolor\": \"#E5ECF6\", \"caxis\": {\"gridcolor\": \"white\", \"linecolor\": \"white\", \"ticks\": \"\"}}, \"title\": {\"x\": 0.05}, \"xaxis\": {\"automargin\": true, \"gridcolor\": \"white\", \"linecolor\": \"white\", \"ticks\": \"\", \"zerolinecolor\": \"white\", \"zerolinewidth\": 2}, \"yaxis\": {\"automargin\": true, \"gridcolor\": \"white\", \"linecolor\": \"white\", \"ticks\": \"\", \"zerolinecolor\": \"white\", \"zerolinewidth\": 2}}}, \"xaxis\": {\"rangeslider\": {\"visible\": false}}},\n",
       "                        {\"responsive\": true}\n",
       "                    ).then(function(){\n",
       "                            \n",
       "var gd = document.getElementById('c86bbba7-011b-47c4-a0b3-b54206a80bad');\n",
       "var x = new MutationObserver(function (mutations, observer) {{\n",
       "        var display = window.getComputedStyle(gd).display;\n",
       "        if (!display || display === 'none') {{\n",
       "            console.log([gd, 'removed!']);\n",
       "            Plotly.purge(gd);\n",
       "            observer.disconnect();\n",
       "        }}\n",
       "}});\n",
       "\n",
       "// Listen for the removal of the full notebook cells\n",
       "var notebookContainer = gd.closest('#notebook-container');\n",
       "if (notebookContainer) {{\n",
       "    x.observe(notebookContainer, {childList: true});\n",
       "}}\n",
       "\n",
       "// Listen for the clearing of the current output cell\n",
       "var outputEl = gd.closest('.output');\n",
       "if (outputEl) {{\n",
       "    x.observe(outputEl, {childList: true});\n",
       "}}\n",
       "\n",
       "                        })\n",
       "                };\n",
       "                });\n",
       "            </script>\n",
       "        </div>"
      ]
     },
     "metadata": {},
     "output_type": "display_data"
    }
   ],
   "source": [
    "fig = go.Figure(data=[go.Candlestick(x=DataSet['Date'],\n",
    "                open=DataSet['Open'], high=DataSet['High'],\n",
    "                low=DataSet['Low'], close=DataSet['Close'])\n",
    "                     ])\n",
    "\n",
    "fig.update_layout(xaxis_rangeslider_visible=False)  \n",
    "fig.show()\n",
    "\n"
   ]
  },
  {
   "cell_type": "markdown",
   "metadata": {},
   "source": [
    "## Rede Neural Recorrente (RNN)\n",
    "\n",
    "Antes de avançar para LSTM, primeiro vamos introduzir o conceito de Redes Recorrentes. Elas são redes utilizadas para reconhecer padrões quando os resultados do passado influenciam no resultado atual. Um exemplo disso são as séries temporais, em que a ordem dos dados é muito importante. <br>\n",
    "\n",
    "Nesta arquitetura, um neurônio tem como entrada seu estado anterior, além das entradas da camada anterior. A imagem abaixo ilustra esta nova modelagem.\n",
    "<br><img src=\"Arquitetura RNN.png\"><br>\n",
    "\n",
    "Observe que H representa o estado. Assim, no estado H_1, o neurônio recebe como parâmetro de entrada X_1 e, além disso, seu estado anterior H_0. O principal problema desta arquitetura é que os estados mais antigos são esquecidos muito rapidamente. Ou seja, para sequências em que precisamos lembrar além de um passado imediato, as redes RNNs são limitadas.\n"
   ]
  },
  {
   "cell_type": "markdown",
   "metadata": {},
   "source": [
    "### Rede LSTM\n",
    "Uma rede LSTM tem origem em uma RNN (Rede Neural Recorrente). Mas ela resolve o problema de memória mudando sua arquitetura.\n",
    "\n",
    "<br><img src=\"Arquitetura LSTM.png\"><br>\n",
    "\n",
    "Nesta nova arquitetura, cada neurônio possui 3 gates, cada um com uma função diferente. São eles:\n",
    "* Input Gate\n",
    "* Output Gate\n",
    "* Forget Gate\n",
    "\n",
    "Agora, um neurônio LSTM recebe entradas de seu estado anterior, assim como ocorria na Rede Recorrente:\n",
    "<br><img src=\"Desdobramento LSTM.png\"><br>\n"
   ]
  },
  {
   "cell_type": "markdown",
   "metadata": {},
   "source": [
    "### Agora vamos ler o arquivo do período desejável "
   ]
  },
  {
   "cell_type": "code",
   "execution_count": 87,
   "metadata": {},
   "outputs": [
    {
     "data": {
      "text/html": [
       "<div>\n",
       "<style scoped>\n",
       "    .dataframe tbody tr th:only-of-type {\n",
       "        vertical-align: middle;\n",
       "    }\n",
       "\n",
       "    .dataframe tbody tr th {\n",
       "        vertical-align: top;\n",
       "    }\n",
       "\n",
       "    .dataframe thead th {\n",
       "        text-align: right;\n",
       "    }\n",
       "</style>\n",
       "<table border=\"1\" class=\"dataframe\">\n",
       "  <thead>\n",
       "    <tr style=\"text-align: right;\">\n",
       "      <th></th>\n",
       "      <th>Date</th>\n",
       "      <th>Open</th>\n",
       "      <th>High</th>\n",
       "      <th>Low</th>\n",
       "      <th>Close</th>\n",
       "      <th>Adj Close</th>\n",
       "      <th>Volume</th>\n",
       "    </tr>\n",
       "  </thead>\n",
       "  <tbody>\n",
       "    <tr>\n",
       "      <th>0</th>\n",
       "      <td>2020-01-02</td>\n",
       "      <td>115652.0</td>\n",
       "      <td>118573.0</td>\n",
       "      <td>115649.0</td>\n",
       "      <td>118573.0</td>\n",
       "      <td>118573.0</td>\n",
       "      <td>5162700.0</td>\n",
       "    </tr>\n",
       "    <tr>\n",
       "      <th>1</th>\n",
       "      <td>2020-01-03</td>\n",
       "      <td>118564.0</td>\n",
       "      <td>118792.0</td>\n",
       "      <td>117341.0</td>\n",
       "      <td>117707.0</td>\n",
       "      <td>117707.0</td>\n",
       "      <td>6834500.0</td>\n",
       "    </tr>\n",
       "    <tr>\n",
       "      <th>2</th>\n",
       "      <td>2020-01-06</td>\n",
       "      <td>117707.0</td>\n",
       "      <td>117707.0</td>\n",
       "      <td>116269.0</td>\n",
       "      <td>116878.0</td>\n",
       "      <td>116878.0</td>\n",
       "      <td>6570000.0</td>\n",
       "    </tr>\n",
       "    <tr>\n",
       "      <th>3</th>\n",
       "      <td>2020-01-07</td>\n",
       "      <td>116872.0</td>\n",
       "      <td>117076.0</td>\n",
       "      <td>115965.0</td>\n",
       "      <td>116662.0</td>\n",
       "      <td>116662.0</td>\n",
       "      <td>4854100.0</td>\n",
       "    </tr>\n",
       "    <tr>\n",
       "      <th>4</th>\n",
       "      <td>2020-01-08</td>\n",
       "      <td>116667.0</td>\n",
       "      <td>117335.0</td>\n",
       "      <td>115693.0</td>\n",
       "      <td>116247.0</td>\n",
       "      <td>116247.0</td>\n",
       "      <td>5910500.0</td>\n",
       "    </tr>\n",
       "  </tbody>\n",
       "</table>\n",
       "</div>"
      ],
      "text/plain": [
       "         Date      Open      High       Low     Close  Adj Close     Volume\n",
       "0  2020-01-02  115652.0  118573.0  115649.0  118573.0   118573.0  5162700.0\n",
       "1  2020-01-03  118564.0  118792.0  117341.0  117707.0   117707.0  6834500.0\n",
       "2  2020-01-06  117707.0  117707.0  116269.0  116878.0   116878.0  6570000.0\n",
       "3  2020-01-07  116872.0  117076.0  115965.0  116662.0   116662.0  4854100.0\n",
       "4  2020-01-08  116667.0  117335.0  115693.0  116247.0   116247.0  5910500.0"
      ]
     },
     "execution_count": 87,
     "metadata": {},
     "output_type": "execute_result"
    }
   ],
   "source": [
    "DataSet=pd.read_csv('Futuros Mini Ibovespa - treinoF.csv')\n",
    "DataSet=DataSet.dropna()\n",
    "DataSet.head()"
   ]
  },
  {
   "cell_type": "code",
   "execution_count": 88,
   "metadata": {},
   "outputs": [
    {
     "data": {
      "text/html": [
       "<div>\n",
       "<style scoped>\n",
       "    .dataframe tbody tr th:only-of-type {\n",
       "        vertical-align: middle;\n",
       "    }\n",
       "\n",
       "    .dataframe tbody tr th {\n",
       "        vertical-align: top;\n",
       "    }\n",
       "\n",
       "    .dataframe thead th {\n",
       "        text-align: right;\n",
       "    }\n",
       "</style>\n",
       "<table border=\"1\" class=\"dataframe\">\n",
       "  <thead>\n",
       "    <tr style=\"text-align: right;\">\n",
       "      <th></th>\n",
       "      <th>Open</th>\n",
       "      <th>High</th>\n",
       "      <th>Low</th>\n",
       "      <th>Close</th>\n",
       "      <th>Adj Close</th>\n",
       "      <th>Volume</th>\n",
       "    </tr>\n",
       "  </thead>\n",
       "  <tbody>\n",
       "    <tr>\n",
       "      <th>count</th>\n",
       "      <td>305.000000</td>\n",
       "      <td>305.000000</td>\n",
       "      <td>305.000000</td>\n",
       "      <td>305.000000</td>\n",
       "      <td>305.000000</td>\n",
       "      <td>3.050000e+02</td>\n",
       "    </tr>\n",
       "    <tr>\n",
       "      <th>mean</th>\n",
       "      <td>102084.111475</td>\n",
       "      <td>103404.881967</td>\n",
       "      <td>100770.262295</td>\n",
       "      <td>102112.508197</td>\n",
       "      <td>102112.508197</td>\n",
       "      <td>9.589573e+06</td>\n",
       "    </tr>\n",
       "    <tr>\n",
       "      <th>std</th>\n",
       "      <td>14280.358028</td>\n",
       "      <td>13887.278035</td>\n",
       "      <td>14623.150401</td>\n",
       "      <td>14296.233278</td>\n",
       "      <td>14296.233278</td>\n",
       "      <td>2.901938e+06</td>\n",
       "    </tr>\n",
       "    <tr>\n",
       "      <th>min</th>\n",
       "      <td>63604.000000</td>\n",
       "      <td>67604.000000</td>\n",
       "      <td>61691.000000</td>\n",
       "      <td>63570.000000</td>\n",
       "      <td>63570.000000</td>\n",
       "      <td>0.000000e+00</td>\n",
       "    </tr>\n",
       "    <tr>\n",
       "      <th>25%</th>\n",
       "      <td>95475.000000</td>\n",
       "      <td>96611.000000</td>\n",
       "      <td>93984.000000</td>\n",
       "      <td>95479.000000</td>\n",
       "      <td>95479.000000</td>\n",
       "      <td>8.190900e+06</td>\n",
       "    </tr>\n",
       "    <tr>\n",
       "      <th>50%</th>\n",
       "      <td>102231.000000</td>\n",
       "      <td>103226.000000</td>\n",
       "      <td>100872.000000</td>\n",
       "      <td>102175.000000</td>\n",
       "      <td>102175.000000</td>\n",
       "      <td>9.537600e+06</td>\n",
       "    </tr>\n",
       "    <tr>\n",
       "      <th>75%</th>\n",
       "      <td>115128.000000</td>\n",
       "      <td>115740.000000</td>\n",
       "      <td>113949.000000</td>\n",
       "      <td>115190.000000</td>\n",
       "      <td>115190.000000</td>\n",
       "      <td>1.116360e+07</td>\n",
       "    </tr>\n",
       "    <tr>\n",
       "      <th>max</th>\n",
       "      <td>125075.000000</td>\n",
       "      <td>125324.000000</td>\n",
       "      <td>123227.000000</td>\n",
       "      <td>125077.000000</td>\n",
       "      <td>125077.000000</td>\n",
       "      <td>2.176870e+07</td>\n",
       "    </tr>\n",
       "  </tbody>\n",
       "</table>\n",
       "</div>"
      ],
      "text/plain": [
       "                Open           High            Low          Close  \\\n",
       "count     305.000000     305.000000     305.000000     305.000000   \n",
       "mean   102084.111475  103404.881967  100770.262295  102112.508197   \n",
       "std     14280.358028   13887.278035   14623.150401   14296.233278   \n",
       "min     63604.000000   67604.000000   61691.000000   63570.000000   \n",
       "25%     95475.000000   96611.000000   93984.000000   95479.000000   \n",
       "50%    102231.000000  103226.000000  100872.000000  102175.000000   \n",
       "75%    115128.000000  115740.000000  113949.000000  115190.000000   \n",
       "max    125075.000000  125324.000000  123227.000000  125077.000000   \n",
       "\n",
       "           Adj Close        Volume  \n",
       "count     305.000000  3.050000e+02  \n",
       "mean   102112.508197  9.589573e+06  \n",
       "std     14296.233278  2.901938e+06  \n",
       "min     63570.000000  0.000000e+00  \n",
       "25%     95479.000000  8.190900e+06  \n",
       "50%    102175.000000  9.537600e+06  \n",
       "75%    115190.000000  1.116360e+07  \n",
       "max    125077.000000  2.176870e+07  "
      ]
     },
     "execution_count": 88,
     "metadata": {},
     "output_type": "execute_result"
    }
   ],
   "source": [
    "DataSet.describe()"
   ]
  },
  {
   "cell_type": "markdown",
   "metadata": {},
   "source": [
    "### Inicialmente iremos criar uma RNN baseada apenas no Valor de Abertura"
   ]
  },
  {
   "cell_type": "code",
   "execution_count": 89,
   "metadata": {},
   "outputs": [
    {
     "data": {
      "image/png": "[encoded data removed]",
      "text/plain": [
       "<Figure size 1152x576 with 1 Axes>"
      ]
     },
     "metadata": {
      "needs_background": "light"
     },
     "output_type": "display_data"
    }
   ],
   "source": [
    "#setting index as date\n",
    "DataSet['Date'] = pd.to_datetime (DataSet.Date)\n",
    "DataSet.index = DataSet ['Date']\n",
    "\n",
    "#trama\n",
    "plt.figure (figsize = (16,8))\n",
    "plt.plot (DataSet ['Close'], label = 'Fechar histórico de preços')\n",
    "\n",
    "\n",
    "\n",
    "#plt.scatter(DataSet['Date'],DataSet['Open'],)\n",
    "#plt.show()\n",
    "\n",
    "base_treinamento = DataSet.iloc[:, 1:5].values\n",
    "\n",
    "#DataSet.drop(['Date','Close','High','Low', 'Volume'],axis=1,inplace=True)\n"
   ]
  },
  {
   "cell_type": "code",
   "execution_count": 90,
   "metadata": {},
   "outputs": [
    {
     "data": {
      "text/plain": [
       "array([[115652., 118573., 115649., 118573.],\n",
       "       [118564., 118792., 117341., 117707.],\n",
       "       [117707., 117707., 116269., 116878.],\n",
       "       ...,\n",
       "       [113750., 115416., 113305., 114781.],\n",
       "       [114776., 115553., 114096., 115419.],\n",
       "       [115414., 117090., 114999., 116850.]])"
      ]
     },
     "execution_count": 90,
     "metadata": {},
     "output_type": "execute_result"
    }
   ],
   "source": [
    "base_treinamento"
   ]
  },
  {
   "cell_type": "markdown",
   "metadata": {},
   "source": [
    "### Normalizar os dados do Mini Índice"
   ]
  },
  {
   "cell_type": "code",
   "execution_count": 92,
   "metadata": {},
   "outputs": [
    {
     "data": {
      "text/plain": [
       "array([[0.8467082 ],\n",
       "       [0.89408014],\n",
       "       [0.8801386 ],\n",
       "       [0.86655496],\n",
       "       [0.86322005],\n",
       "       [0.85640383],\n",
       "       [0.85152348],\n",
       "       [0.8442843 ],\n",
       "       [0.87392429],\n",
       "       [0.87891851],\n",
       "       [0.85912056],\n",
       "       [0.86391957],\n",
       "       [0.8926811 ],\n",
       "       [0.89891168],\n",
       "       [0.86920662],\n",
       "       [0.8912658 ],\n",
       "       [0.90976233],\n",
       "       [0.89055002],\n",
       "       [0.82767484],\n",
       "       [0.86040572],\n",
       "       [0.84220201],\n",
       "       [0.84452831],\n",
       "       [0.81594573],\n",
       "       [0.83009875],\n",
       "       [0.84526037],\n",
       "       [0.85290625],\n",
       "       [0.83919246],\n",
       "       [0.81610841],\n",
       "       [0.79663581],\n",
       "       [0.84213694],\n",
       "       [0.86310618],\n",
       "       [0.84688715],\n",
       "       [0.82603179],\n",
       "       [0.84112834],\n",
       "       [0.83580876],\n",
       "       [0.86079615],\n",
       "       [0.82935043],\n",
       "       [0.68498967],\n",
       "       [0.64062729],\n",
       "       [0.66138504],\n",
       "       [0.69993981],\n",
       "       [0.68220787],\n",
       "       [0.70948903],\n",
       "       [0.62837761],\n",
       "       [0.55925558],\n",
       "       [0.36548942],\n",
       "       [0.46522751],\n",
       "       [0.34974215],\n",
       "       [0.14668706],\n",
       "       [0.30845439],\n",
       "       [0.12321257],\n",
       "       [0.17849067],\n",
       "       [0.05334223],\n",
       "       [0.07710953],\n",
       "       [0.05633551],\n",
       "       [0.        ],\n",
       "       [0.09960795],\n",
       "       [0.18467245],\n",
       "       [0.22944153],\n",
       "       [0.159864  ],\n",
       "       [0.17935287],\n",
       "       [0.15303151],\n",
       "       [0.11981259],\n",
       "       [0.14050528],\n",
       "       [0.09682615],\n",
       "       [0.17038929],\n",
       "       [0.20710579],\n",
       "       [0.24460315],\n",
       "       [0.22901856],\n",
       "       [0.24798686],\n",
       "       [0.26527956],\n",
       "       [0.24780791],\n",
       "       [0.23121472],\n",
       "       [0.25028062],\n",
       "       [0.25002033],\n",
       "       [0.27795221],\n",
       "       [0.26131021],\n",
       "       [0.19082169],\n",
       "       [0.23814482],\n",
       "       [0.28808707],\n",
       "       [0.31828016],\n",
       "       [0.27487758],\n",
       "       [0.2486213 ],\n",
       "       [0.25815425],\n",
       "       [0.25163085],\n",
       "       [0.23666444],\n",
       "       [0.27100584],\n",
       "       [0.25151698],\n",
       "       [0.23219079],\n",
       "       [0.23045013],\n",
       "       [0.25063851],\n",
       "       [0.22729417],\n",
       "       [0.2862    ],\n",
       "       [0.27887947],\n",
       "       [0.28820094],\n",
       "       [0.31597013],\n",
       "       [0.3024841 ],\n",
       "       [0.35893348],\n",
       "       [0.35567991],\n",
       "       [0.39599161],\n",
       "       [0.37980511],\n",
       "       [0.38702803],\n",
       "       [0.40698866],\n",
       "       [0.44645443],\n",
       "       [0.47809536],\n",
       "       [0.49185795],\n",
       "       [0.50488848],\n",
       "       [0.55375706],\n",
       "       [0.53916481],\n",
       "       [0.50549039],\n",
       "       [0.47463031],\n",
       "       [0.46823705],\n",
       "       [0.48684746],\n",
       "       [0.51964341],\n",
       "       [0.5292577 ],\n",
       "       [0.53631794],\n",
       "       [0.51634104],\n",
       "       [0.52658977],\n",
       "       [0.50069138],\n",
       "       [0.52667111],\n",
       "       [0.49182541],\n",
       "       [0.52258789],\n",
       "       [0.51175351],\n",
       "       [0.53036391],\n",
       "       [0.53086821],\n",
       "       [0.53963658],\n",
       "       [0.57479137],\n",
       "       [0.55572546],\n",
       "       [0.58834247],\n",
       "       [0.57841909],\n",
       "       [0.5925233 ],\n",
       "       [0.57091962],\n",
       "       [0.59930699],\n",
       "       [0.62121976],\n",
       "       [0.60109645],\n",
       "       [0.63906558],\n",
       "       [0.6640855 ],\n",
       "       [0.66223097],\n",
       "       [0.66188935],\n",
       "       [0.62936995],\n",
       "       [0.63081778],\n",
       "       [0.66491516],\n",
       "       [0.6589774 ],\n",
       "       [0.68326528],\n",
       "       [0.67358592],\n",
       "       [0.63947227],\n",
       "       [0.63805697],\n",
       "       [0.61193083],\n",
       "       [0.63654406],\n",
       "       [0.65904248],\n",
       "       [0.63724358],\n",
       "       [0.64819183],\n",
       "       [0.62748288],\n",
       "       [0.62653934],\n",
       "       [0.59971369],\n",
       "       [0.61401311],\n",
       "       [0.58552814],\n",
       "       [0.62579102],\n",
       "       [0.60596053],\n",
       "       [0.61583511],\n",
       "       [0.61689252],\n",
       "       [0.62938621],\n",
       "       [0.62655561],\n",
       "       [0.60225147],\n",
       "       [0.60234908],\n",
       "       [0.62692977],\n",
       "       [0.58203055],\n",
       "       [0.62735274],\n",
       "       [0.6231719 ],\n",
       "       [0.60400839],\n",
       "       [0.61223992],\n",
       "       [0.59289746],\n",
       "       [0.61308585],\n",
       "       [0.57319712],\n",
       "       [0.5655187 ],\n",
       "       [0.59659026],\n",
       "       [0.59694815],\n",
       "       [0.58678076],\n",
       "       [0.59367832],\n",
       "       [0.5641522 ],\n",
       "       [0.54319923],\n",
       "       [0.54806331],\n",
       "       [0.52270176],\n",
       "       [0.54345952],\n",
       "       [0.54336191],\n",
       "       [0.50529518],\n",
       "       [0.48774219],\n",
       "       [0.50430284],\n",
       "       [0.51847213],\n",
       "       [0.49478616],\n",
       "       [0.52849311],\n",
       "       [0.52076589],\n",
       "       [0.51936686],\n",
       "       [0.55831205],\n",
       "       [0.55113793],\n",
       "       [0.56771486],\n",
       "       [0.58115209],\n",
       "       [0.5766947 ],\n",
       "       [0.56459143],\n",
       "       [0.57035025],\n",
       "       [0.60088497],\n",
       "       [0.60108018],\n",
       "       [0.62328578],\n",
       "       [0.61258154],\n",
       "       [0.60862846],\n",
       "       [0.5855444 ],\n",
       "       [0.51673147],\n",
       "       [0.53643181],\n",
       "       [0.4939565 ],\n",
       "       [0.5268826 ],\n",
       "       [0.55748239],\n",
       "       [0.60430122],\n",
       "       [0.60760359],\n",
       "       [0.64928178],\n",
       "       [0.67451319],\n",
       "       [0.67033235],\n",
       "       [0.63290007],\n",
       "       [0.66901466],\n",
       "       [0.69668624],\n",
       "       [0.70996079],\n",
       "       [0.69159441],\n",
       "       [0.69050447],\n",
       "       [0.71210815],\n",
       "       [0.75128109],\n",
       "       [0.75692603],\n",
       "       [0.75848774],\n",
       "       [0.76449057],\n",
       "       [0.73681899],\n",
       "       [0.77756991],\n",
       "       [0.78524833],\n",
       "       [0.79208082],\n",
       "       [0.81578305],\n",
       "       [0.81316393],\n",
       "       [0.81656391],\n",
       "       [0.80359844],\n",
       "       [0.83818386],\n",
       "       [0.83833027],\n",
       "       [0.82980592],\n",
       "       [0.85479332],\n",
       "       [0.88269265],\n",
       "       [0.89133087],\n",
       "       [0.8852467 ],\n",
       "       [0.84952254],\n",
       "       [0.86271575],\n",
       "       [0.88174912],\n",
       "       [0.90328773],\n",
       "       [0.90784272],\n",
       "       [0.90156334],\n",
       "       [0.89848872],\n",
       "       [0.90730588],\n",
       "       [0.9028485 ],\n",
       "       [0.95627206],\n",
       "       [1.        ],\n",
       "       [0.97039254],\n",
       "       [0.98244701],\n",
       "       [0.94911422],\n",
       "       [0.97392266],\n",
       "       [0.92315075],\n",
       "       [0.93777554],\n",
       "       [0.9279335 ],\n",
       "       [0.91138911],\n",
       "       [0.89007825],\n",
       "       [0.87483529],\n",
       "       [0.85990142],\n",
       "       [0.85044981],\n",
       "       [0.89922077],\n",
       "       [0.83761448],\n",
       "       [0.87709652],\n",
       "       [0.88872802],\n",
       "       [0.91301589],\n",
       "       [0.90541882],\n",
       "       [0.92132876],\n",
       "       [0.91249532],\n",
       "       [0.90885133],\n",
       "       [0.89206292],\n",
       "       [0.90605326],\n",
       "       [0.92331343],\n",
       "       [0.90441021],\n",
       "       [0.891217  ],\n",
       "       [0.79829513],\n",
       "       [0.83982691],\n",
       "       [0.84696849],\n",
       "       [0.79152771],\n",
       "       [0.75534805],\n",
       "       [0.76009826],\n",
       "       [0.77963593],\n",
       "       [0.7741374 ],\n",
       "       [0.79852288],\n",
       "       [0.83938768],\n",
       "       [0.76470205],\n",
       "       [0.77641489],\n",
       "       [0.80001952],\n",
       "       [0.83584129],\n",
       "       [0.82134665],\n",
       "       [0.83358006],\n",
       "       [0.82012656],\n",
       "       [0.86130045],\n",
       "       [0.83344992],\n",
       "       [0.85598087],\n",
       "       [0.83572742],\n",
       "       [0.80799076],\n",
       "       [0.78835548],\n",
       "       [0.81576678],\n",
       "       [0.83245758],\n",
       "       [0.84283646]])"
      ]
     },
     "execution_count": 92,
     "metadata": {},
     "output_type": "execute_result"
    }
   ],
   "source": [
    "from sklearn.preprocessing import MinMaxScaler\n",
    "\n",
    "scaler=MinMaxScaler(feature_range=(0,1))\n",
    "DataScaled=scaler.fit_transform(base_treinamento)\n",
    "\n",
    "#?\n",
    "scaler_previsao = MinMaxScaler(feature_range=(0,1))\n",
    "scaler_previsao.fit_transform(base_treinamento[:,0:1])"
   ]
  },
  {
   "cell_type": "code",
   "execution_count": 93,
   "metadata": {},
   "outputs": [
    {
     "name": "stdout",
     "output_type": "stream",
     "text": [
      "[[0.8467082  0.88303881 0.87685257 0.89425594]\n",
      " [0.89408014 0.88683299 0.90434867 0.88017624]\n",
      " [0.8801386  0.86803534 0.88692798 0.8666981 ]\n",
      " ...\n",
      " [0.81576678 0.82834373 0.83876105 0.83260442]\n",
      " [0.83245758 0.83071726 0.85161531 0.84297722]\n",
      " [0.84283646 0.85734581 0.86628965 0.86624287]]\n"
     ]
    }
   ],
   "source": [
    "print(DataScaled)"
   ]
  },
  {
   "cell_type": "markdown",
   "metadata": {},
   "source": [
    "### Dados para o Fomato de Séries Temporais\n",
    "\n",
    "<br><img src=\"previsaoNxM.jpeg\"><br>"
   ]
  },
  {
   "cell_type": "code",
   "execution_count": 96,
   "metadata": {},
   "outputs": [
    {
     "name": "stdout",
     "output_type": "stream",
     "text": [
      "305\n"
     ]
    }
   ],
   "source": [
    "previsores = []\n",
    "preco_real = []\n",
    "NRecursao = 20\n",
    "NPrevisores=4\n",
    "MPrevisoes=5\n",
    "DataSetLen = len(DataScaled)\n",
    "print(DataSetLen)"
   ]
  },
  {
   "cell_type": "code",
   "execution_count": 97,
   "metadata": {},
   "outputs": [],
   "source": [
    "for i in range(NRecursao, DataSetLen-MPrevisoes):\n",
    "    previsores.append(DataScaled[i-NRecursao:i,0:NPrevisores])\n",
    "    preco_real.append(DataScaled[i:i+MPrevisoes,0])\n",
    "\n",
    "previsores, preco_real = np.array(previsores), np.array(preco_real)"
   ]
  },
  {
   "cell_type": "code",
   "execution_count": 98,
   "metadata": {},
   "outputs": [
    {
     "data": {
      "text/plain": [
       "(280, 5)"
      ]
     },
     "execution_count": 98,
     "metadata": {},
     "output_type": "execute_result"
    }
   ],
   "source": [
    "preco_real.shape"
   ]
  },
  {
   "cell_type": "code",
   "execution_count": 99,
   "metadata": {},
   "outputs": [
    {
     "data": {
      "text/plain": [
       "(280, 20, 4)"
      ]
     },
     "execution_count": 99,
     "metadata": {},
     "output_type": "execute_result"
    }
   ],
   "source": [
    "previsores.shape"
   ]
  },
  {
   "cell_type": "markdown",
   "metadata": {},
   "source": [
    "### Tranformar para o formato do Tensor do Keras\n",
    "\n",
    "<br><img src=\"TensorKeras.png\"><br>"
   ]
  },
  {
   "cell_type": "markdown",
   "metadata": {},
   "source": [
    "### Estrutura da Rede Neural"
   ]
  },
  {
   "cell_type": "code",
   "execution_count": 100,
   "metadata": {},
   "outputs": [],
   "source": [
    "# Camada de entrada\n",
    "regressor = Sequential()\n",
    "regressor.add(LSTM(units = 100, return_sequences = True, input_shape = (previsores.shape[1], NPrevisores)))\n",
    "regressor.add(Dropout(0.3))\n",
    "\n",
    "# Cada Oculta 1\n",
    "regressor.add(LSTM(units = 50, return_sequences = True))\n",
    "regressor.add(Dropout(0.3))\n",
    "\n",
    "# Cada Oculta 2\n",
    "regressor.add(LSTM(units = 50, return_sequences = True))\n",
    "regressor.add(Dropout(0.3))\n",
    "\n",
    "# Cada Oculta 3\n",
    "regressor.add(LSTM(units = 50))\n",
    "regressor.add(Dropout(0.3))\n",
    "\n",
    "# Camada de Saída\n",
    "regressor.add(Dense(units = MPrevisoes, activation = 'sigmoid'))\n"
   ]
  },
  {
   "cell_type": "markdown",
   "metadata": {},
   "source": [
    "### Construindo a Rede"
   ]
  },
  {
   "cell_type": "code",
   "execution_count": 101,
   "metadata": {},
   "outputs": [
    {
     "name": "stdout",
     "output_type": "stream",
     "text": [
      "Epoch 1/100\n",
      "280/280 [==============================] - 6s 23ms/step - loss: 0.0467 - mean_absolute_error: 0.1700\n",
      "\n",
      "Epoch 00001: loss improved from inf to 0.04666, saving model to pesos.h5\n",
      "Epoch 2/100\n",
      "280/280 [==============================] - 2s 7ms/step - loss: 0.0371 - mean_absolute_error: 0.1456\n",
      "\n",
      "Epoch 00002: loss improved from 0.04666 to 0.03713, saving model to pesos.h5\n",
      "Epoch 3/100\n",
      "280/280 [==============================] - 2s 6ms/step - loss: 0.0333 - mean_absolute_error: 0.1309\n",
      "\n",
      "Epoch 00003: loss improved from 0.03713 to 0.03330, saving model to pesos.h5\n",
      "Epoch 4/100\n",
      "280/280 [==============================] - 2s 6ms/step - loss: 0.0318 - mean_absolute_error: 0.1328\n",
      "\n",
      "Epoch 00004: loss improved from 0.03330 to 0.03180, saving model to pesos.h5\n",
      "Epoch 5/100\n",
      "280/280 [==============================] - 2s 7ms/step - loss: 0.0306 - mean_absolute_error: 0.1292\n",
      "\n",
      "Epoch 00005: loss improved from 0.03180 to 0.03056, saving model to pesos.h5\n",
      "Epoch 6/100\n",
      "280/280 [==============================] - 2s 7ms/step - loss: 0.0257 - mean_absolute_error: 0.1143\n",
      "\n",
      "Epoch 00006: loss improved from 0.03056 to 0.02571, saving model to pesos.h5\n",
      "Epoch 7/100\n",
      "280/280 [==============================] - 2s 7ms/step - loss: 0.0250 - mean_absolute_error: 0.1137\n",
      "\n",
      "Epoch 00007: loss improved from 0.02571 to 0.02503, saving model to pesos.h5\n",
      "Epoch 8/100\n",
      "280/280 [==============================] - 2s 6ms/step - loss: 0.0242 - mean_absolute_error: 0.1117\n",
      "\n",
      "Epoch 00008: loss improved from 0.02503 to 0.02420, saving model to pesos.h5\n",
      "Epoch 9/100\n",
      "280/280 [==============================] - 1s 5ms/step - loss: 0.0217 - mean_absolute_error: 0.1024\n",
      "\n",
      "Epoch 00009: loss improved from 0.02420 to 0.02173, saving model to pesos.h5\n",
      "Epoch 10/100\n",
      "280/280 [==============================] - 2s 7ms/step - loss: 0.0220 - mean_absolute_error: 0.1018\n",
      "\n",
      "Epoch 00010: loss did not improve from 0.02173\n",
      "Epoch 11/100\n",
      "280/280 [==============================] - 1s 5ms/step - loss: 0.0188 - mean_absolute_error: 0.1018\n",
      "\n",
      "Epoch 00011: loss improved from 0.02173 to 0.01878, saving model to pesos.h5\n",
      "Epoch 12/100\n",
      "280/280 [==============================] - 2s 7ms/step - loss: 0.0184 - mean_absolute_error: 0.0998\n",
      "\n",
      "Epoch 00012: loss improved from 0.01878 to 0.01839, saving model to pesos.h5\n",
      "Epoch 13/100\n",
      "280/280 [==============================] - 2s 8ms/step - loss: 0.0175 - mean_absolute_error: 0.0909\n",
      "\n",
      "Epoch 00013: loss improved from 0.01839 to 0.01747, saving model to pesos.h5\n",
      "Epoch 14/100\n",
      "280/280 [==============================] - 2s 7ms/step - loss: 0.0154 - mean_absolute_error: 0.0865\n",
      "\n",
      "Epoch 00014: loss improved from 0.01747 to 0.01540, saving model to pesos.h5\n",
      "Epoch 15/100\n",
      "280/280 [==============================] - 2s 6ms/step - loss: 0.0164 - mean_absolute_error: 0.0938\n",
      "\n",
      "Epoch 00015: loss did not improve from 0.01540\n",
      "Epoch 16/100\n",
      "280/280 [==============================] - 1s 5ms/step - loss: 0.0116 - mean_absolute_error: 0.0776\n",
      "\n",
      "Epoch 00016: loss improved from 0.01540 to 0.01164, saving model to pesos.h5\n",
      "Epoch 17/100\n",
      "280/280 [==============================] - 2s 6ms/step - loss: 0.0156 - mean_absolute_error: 0.0888\n",
      "\n",
      "Epoch 00017: loss did not improve from 0.01164\n",
      "Epoch 18/100\n",
      "280/280 [==============================] - 1s 5ms/step - loss: 0.0130 - mean_absolute_error: 0.0814\n",
      "\n",
      "Epoch 00018: loss did not improve from 0.01164\n",
      "Epoch 19/100\n",
      "280/280 [==============================] - 1s 5ms/step - loss: 0.0091 - mean_absolute_error: 0.0729\n",
      "\n",
      "Epoch 00019: loss improved from 0.01164 to 0.00908, saving model to pesos.h5\n",
      "Epoch 20/100\n",
      "280/280 [==============================] - 2s 6ms/step - loss: 0.0164 - mean_absolute_error: 0.0876\n",
      "\n",
      "Epoch 00020: loss did not improve from 0.00908\n",
      "Epoch 21/100\n",
      "280/280 [==============================] - 2s 6ms/step - loss: 0.0102 - mean_absolute_error: 0.0715\n",
      "\n",
      "Epoch 00021: loss did not improve from 0.00908\n",
      "Epoch 22/100\n",
      "280/280 [==============================] - 1s 5ms/step - loss: 0.0107 - mean_absolute_error: 0.0720\n",
      "\n",
      "Epoch 00022: loss did not improve from 0.00908\n",
      "Epoch 23/100\n",
      "280/280 [==============================] - 1s 5ms/step - loss: 0.0088 - mean_absolute_error: 0.0702\n",
      "\n",
      "Epoch 00023: loss improved from 0.00908 to 0.00884, saving model to pesos.h5\n",
      "Epoch 24/100\n",
      "280/280 [==============================] - 2s 6ms/step - loss: 0.0069 - mean_absolute_error: 0.0634\n",
      "\n",
      "Epoch 00024: loss improved from 0.00884 to 0.00693, saving model to pesos.h5\n",
      "Epoch 25/100\n",
      "280/280 [==============================] - 2s 6ms/step - loss: 0.0073 - mean_absolute_error: 0.0649\n",
      "\n",
      "Epoch 00025: loss did not improve from 0.00693\n",
      "Epoch 26/100\n",
      "280/280 [==============================] - 1s 5ms/step - loss: 0.0095 - mean_absolute_error: 0.0705\n",
      "\n",
      "Epoch 00026: loss did not improve from 0.00693\n",
      "Epoch 27/100\n",
      "280/280 [==============================] - 1s 5ms/step - loss: 0.0056 - mean_absolute_error: 0.0564\n",
      "\n",
      "Epoch 00027: loss improved from 0.00693 to 0.00560, saving model to pesos.h5\n",
      "Epoch 28/100\n",
      "280/280 [==============================] - 2s 7ms/step - loss: 0.0073 - mean_absolute_error: 0.0661\n",
      "\n",
      "Epoch 00028: loss did not improve from 0.00560\n",
      "Epoch 29/100\n",
      "280/280 [==============================] - 2s 7ms/step - loss: 0.0090 - mean_absolute_error: 0.0685\n",
      "\n",
      "Epoch 00029: loss did not improve from 0.00560\n",
      "Epoch 30/100\n",
      "280/280 [==============================] - 2s 6ms/step - loss: 0.0074 - mean_absolute_error: 0.0634\n",
      "\n",
      "Epoch 00030: loss did not improve from 0.00560\n",
      "Epoch 31/100\n",
      "280/280 [==============================] - 2s 6ms/step - loss: 0.0068 - mean_absolute_error: 0.0619\n",
      "\n",
      "Epoch 00031: loss did not improve from 0.00560\n",
      "Epoch 32/100\n",
      "280/280 [==============================] - 2s 5ms/step - loss: 0.0066 - mean_absolute_error: 0.0613\n",
      "\n",
      "Epoch 00032: ReduceLROnPlateau reducing learning rate to 0.00020000000949949026.\n",
      "\n",
      "Epoch 00032: loss did not improve from 0.00560\n",
      "Epoch 33/100\n",
      "280/280 [==============================] - 1s 5ms/step - loss: 0.0057 - mean_absolute_error: 0.0555\n",
      "\n",
      "Epoch 00033: loss did not improve from 0.00560\n",
      "Epoch 34/100\n",
      "280/280 [==============================] - 1s 4ms/step - loss: 0.0047 - mean_absolute_error: 0.0530\n",
      "\n",
      "Epoch 00034: loss improved from 0.00560 to 0.00475, saving model to pesos.h5\n",
      "Epoch 35/100\n",
      "280/280 [==============================] - 1s 5ms/step - loss: 0.0047 - mean_absolute_error: 0.0522\n",
      "\n",
      "Epoch 00035: loss improved from 0.00475 to 0.00474, saving model to pesos.h5\n",
      "Epoch 36/100\n",
      "280/280 [==============================] - 1s 5ms/step - loss: 0.0048 - mean_absolute_error: 0.0531\n",
      "\n",
      "Epoch 00036: loss did not improve from 0.00474\n",
      "Epoch 37/100\n",
      "280/280 [==============================] - 1s 5ms/step - loss: 0.0045 - mean_absolute_error: 0.0513\n",
      "\n",
      "Epoch 00037: loss improved from 0.00474 to 0.00452, saving model to pesos.h5\n",
      "Epoch 38/100\n",
      "280/280 [==============================] - 1s 4ms/step - loss: 0.0053 - mean_absolute_error: 0.0540\n",
      "\n",
      "Epoch 00038: loss did not improve from 0.00452\n",
      "Epoch 39/100\n",
      "280/280 [==============================] - 1s 5ms/step - loss: 0.0048 - mean_absolute_error: 0.0514\n",
      "\n",
      "Epoch 00039: loss did not improve from 0.00452\n",
      "Epoch 40/100\n",
      "280/280 [==============================] - 1s 5ms/step - loss: 0.0050 - mean_absolute_error: 0.0531\n",
      "\n",
      "Epoch 00040: loss did not improve from 0.00452\n",
      "Epoch 41/100\n",
      "280/280 [==============================] - 1s 5ms/step - loss: 0.0047 - mean_absolute_error: 0.0522\n",
      "\n",
      "Epoch 00041: loss did not improve from 0.00452\n",
      "Epoch 42/100\n",
      "280/280 [==============================] - 1s 4ms/step - loss: 0.0056 - mean_absolute_error: 0.0553\n",
      "\n",
      "Epoch 00042: ReduceLROnPlateau reducing learning rate to 4.0000001899898055e-05.\n",
      "\n",
      "Epoch 00042: loss did not improve from 0.00452\n",
      "Epoch 43/100\n",
      "280/280 [==============================] - 1s 5ms/step - loss: 0.0045 - mean_absolute_error: 0.0506\n",
      "\n",
      "Epoch 00043: loss improved from 0.00452 to 0.00449, saving model to pesos.h5\n",
      "Epoch 44/100\n",
      "280/280 [==============================] - 2s 6ms/step - loss: 0.0049 - mean_absolute_error: 0.0530\n",
      "\n",
      "Epoch 00044: loss did not improve from 0.00449\n",
      "Epoch 45/100\n",
      "280/280 [==============================] - 1s 5ms/step - loss: 0.0046 - mean_absolute_error: 0.0522\n",
      "\n",
      "Epoch 00045: loss did not improve from 0.00449\n",
      "Epoch 46/100\n",
      "280/280 [==============================] - 1s 5ms/step - loss: 0.0046 - mean_absolute_error: 0.0522\n",
      "\n",
      "Epoch 00046: loss did not improve from 0.00449\n",
      "Epoch 47/100\n"
     ]
    },
    {
     "name": "stdout",
     "output_type": "stream",
     "text": [
      "280/280 [==============================] - 2s 7ms/step - loss: 0.0045 - mean_absolute_error: 0.0517\n",
      "\n",
      "Epoch 00047: ReduceLROnPlateau reducing learning rate to 8.000000525498762e-06.\n",
      "\n",
      "Epoch 00047: loss did not improve from 0.00449\n",
      "Epoch 48/100\n",
      "280/280 [==============================] - 2s 6ms/step - loss: 0.0046 - mean_absolute_error: 0.0515\n",
      "\n",
      "Epoch 00048: loss did not improve from 0.00449\n",
      "Epoch 49/100\n",
      "280/280 [==============================] - 1s 5ms/step - loss: 0.0043 - mean_absolute_error: 0.0496\n",
      "\n",
      "Epoch 00049: loss improved from 0.00449 to 0.00430, saving model to pesos.h5\n",
      "Epoch 50/100\n",
      "280/280 [==============================] - 2s 7ms/step - loss: 0.0051 - mean_absolute_error: 0.0527\n",
      "\n",
      "Epoch 00050: loss did not improve from 0.00430\n",
      "Epoch 51/100\n",
      "280/280 [==============================] - 1s 5ms/step - loss: 0.0047 - mean_absolute_error: 0.0515\n",
      "\n",
      "Epoch 00051: loss did not improve from 0.00430\n",
      "Epoch 52/100\n",
      "280/280 [==============================] - 1s 5ms/step - loss: 0.0048 - mean_absolute_error: 0.0522\n",
      "\n",
      "Epoch 00052: loss did not improve from 0.00430\n",
      "Epoch 53/100\n",
      "280/280 [==============================] - 1s 5ms/step - loss: 0.0046 - mean_absolute_error: 0.0520\n",
      "\n",
      "Epoch 00053: loss did not improve from 0.00430\n",
      "Epoch 54/100\n",
      "280/280 [==============================] - 2s 6ms/step - loss: 0.0043 - mean_absolute_error: 0.0497\n",
      "\n",
      "Epoch 00054: ReduceLROnPlateau reducing learning rate to 1.6000001778593287e-06.\n",
      "\n",
      "Epoch 00054: loss improved from 0.00430 to 0.00426, saving model to pesos.h5\n",
      "Epoch 55/100\n",
      "280/280 [==============================] - 2s 6ms/step - loss: 0.0045 - mean_absolute_error: 0.0508\n",
      "\n",
      "Epoch 00055: loss did not improve from 0.00426\n",
      "Epoch 56/100\n",
      "280/280 [==============================] - 1s 5ms/step - loss: 0.0041 - mean_absolute_error: 0.0496\n",
      "\n",
      "Epoch 00056: loss improved from 0.00426 to 0.00409, saving model to pesos.h5\n",
      "Epoch 57/100\n",
      "280/280 [==============================] - 2s 7ms/step - loss: 0.0043 - mean_absolute_error: 0.0504\n",
      "\n",
      "Epoch 00057: loss did not improve from 0.00409\n",
      "Epoch 58/100\n",
      "280/280 [==============================] - 2s 6ms/step - loss: 0.0048 - mean_absolute_error: 0.0514\n",
      "\n",
      "Epoch 00058: loss did not improve from 0.00409\n",
      "Epoch 59/100\n",
      "280/280 [==============================] - 1s 5ms/step - loss: 0.0042 - mean_absolute_error: 0.0482\n",
      "\n",
      "Epoch 00059: loss did not improve from 0.00409\n",
      "Epoch 60/100\n",
      "280/280 [==============================] - 1s 5ms/step - loss: 0.0045 - mean_absolute_error: 0.0502\n",
      "\n",
      "Epoch 00060: loss did not improve from 0.00409\n",
      "Epoch 61/100\n",
      "280/280 [==============================] - 2s 7ms/step - loss: 0.0044 - mean_absolute_error: 0.0505\n",
      "\n",
      "Epoch 00061: ReduceLROnPlateau reducing learning rate to 3.200000264769187e-07.\n",
      "\n",
      "Epoch 00061: loss did not improve from 0.00409\n",
      "Epoch 62/100\n",
      "280/280 [==============================] - 1s 5ms/step - loss: 0.0046 - mean_absolute_error: 0.0512\n",
      "\n",
      "Epoch 00062: loss did not improve from 0.00409\n",
      "Epoch 63/100\n",
      "280/280 [==============================] - 1s 5ms/step - loss: 0.0044 - mean_absolute_error: 0.0514\n",
      "\n",
      "Epoch 00063: loss did not improve from 0.00409\n",
      "Epoch 64/100\n",
      "280/280 [==============================] - 1s 5ms/step - loss: 0.0043 - mean_absolute_error: 0.0488\n",
      "\n",
      "Epoch 00064: loss did not improve from 0.00409\n",
      "Epoch 65/100\n",
      "280/280 [==============================] - 1s 5ms/step - loss: 0.0046 - mean_absolute_error: 0.0511\n",
      "\n",
      "Epoch 00065: loss did not improve from 0.00409\n",
      "Epoch 66/100\n",
      "280/280 [==============================] - 1s 5ms/step - loss: 0.0045 - mean_absolute_error: 0.0519\n",
      "\n",
      "Epoch 00066: ReduceLROnPlateau reducing learning rate to 6.400000529538374e-08.\n",
      "\n",
      "Epoch 00066: loss did not improve from 0.00409\n",
      "Epoch 00066: early stopping\n"
     ]
    },
    {
     "data": {
      "text/plain": [
       "<keras.callbacks.callbacks.History at 0x1a0c80afbe0>"
      ]
     },
     "execution_count": 101,
     "metadata": {},
     "output_type": "execute_result"
    }
   ],
   "source": [
    "regressor.compile(optimizer = 'rmsprop', loss = 'mean_squared_error',\n",
    "                  metrics = ['mean_absolute_error'])\n",
    "\n",
    "#Funções de Callback\n",
    "es = EarlyStopping(monitor = 'loss', min_delta = 1e-10, patience = 10, verbose = 1)\n",
    "rlr = ReduceLROnPlateau(monitor = 'loss', factor = 0.2, patience = 5, verbose = 1)\n",
    "mcp = ModelCheckpoint(filepath = 'pesos.h5', monitor = 'loss', \n",
    "                      save_best_only = True, verbose = 1)\n",
    "regressor.fit(previsores, preco_real, epochs = 100, batch_size = 32,\n",
    "              callbacks = [es, rlr, mcp])\n"
   ]
  },
  {
   "cell_type": "markdown",
   "metadata": {},
   "source": [
    "### Conjunto de dados para o Teste"
   ]
  },
  {
   "cell_type": "code",
   "execution_count": 102,
   "metadata": {},
   "outputs": [
    {
     "data": {
      "text/html": [
       "<div>\n",
       "<style scoped>\n",
       "    .dataframe tbody tr th:only-of-type {\n",
       "        vertical-align: middle;\n",
       "    }\n",
       "\n",
       "    .dataframe tbody tr th {\n",
       "        vertical-align: top;\n",
       "    }\n",
       "\n",
       "    .dataframe thead th {\n",
       "        text-align: right;\n",
       "    }\n",
       "</style>\n",
       "<table border=\"1\" class=\"dataframe\">\n",
       "  <thead>\n",
       "    <tr style=\"text-align: right;\">\n",
       "      <th></th>\n",
       "      <th>Date</th>\n",
       "      <th>Open</th>\n",
       "      <th>High</th>\n",
       "      <th>Low</th>\n",
       "      <th>Close</th>\n",
       "      <th>Adj Close</th>\n",
       "      <th>Volume</th>\n",
       "    </tr>\n",
       "  </thead>\n",
       "  <tbody>\n",
       "    <tr>\n",
       "      <th>0</th>\n",
       "      <td>2021-04-01</td>\n",
       "      <td>116644.0</td>\n",
       "      <td>117088.0</td>\n",
       "      <td>114991.0</td>\n",
       "      <td>115253.0</td>\n",
       "      <td>115253.0</td>\n",
       "      <td>8009200</td>\n",
       "    </tr>\n",
       "    <tr>\n",
       "      <th>1</th>\n",
       "      <td>2021-04-05</td>\n",
       "      <td>115262.0</td>\n",
       "      <td>117668.0</td>\n",
       "      <td>115262.0</td>\n",
       "      <td>117518.0</td>\n",
       "      <td>117518.0</td>\n",
       "      <td>7245100</td>\n",
       "    </tr>\n",
       "    <tr>\n",
       "      <th>2</th>\n",
       "      <td>2021-04-06</td>\n",
       "      <td>117519.0</td>\n",
       "      <td>118213.0</td>\n",
       "      <td>117176.0</td>\n",
       "      <td>117499.0</td>\n",
       "      <td>117499.0</td>\n",
       "      <td>6800800</td>\n",
       "    </tr>\n",
       "    <tr>\n",
       "      <th>3</th>\n",
       "      <td>2021-04-07</td>\n",
       "      <td>117499.0</td>\n",
       "      <td>118303.0</td>\n",
       "      <td>116748.0</td>\n",
       "      <td>117624.0</td>\n",
       "      <td>117624.0</td>\n",
       "      <td>0</td>\n",
       "    </tr>\n",
       "    <tr>\n",
       "      <th>4</th>\n",
       "      <td>2021-04-08</td>\n",
       "      <td>117624.0</td>\n",
       "      <td>118850.0</td>\n",
       "      <td>117486.0</td>\n",
       "      <td>118313.0</td>\n",
       "      <td>118313.0</td>\n",
       "      <td>8778200</td>\n",
       "    </tr>\n",
       "  </tbody>\n",
       "</table>\n",
       "</div>"
      ],
      "text/plain": [
       "         Date      Open      High       Low     Close  Adj Close   Volume\n",
       "0  2021-04-01  116644.0  117088.0  114991.0  115253.0   115253.0  8009200\n",
       "1  2021-04-05  115262.0  117668.0  115262.0  117518.0   117518.0  7245100\n",
       "2  2021-04-06  117519.0  118213.0  117176.0  117499.0   117499.0  6800800\n",
       "3  2021-04-07  117499.0  118303.0  116748.0  117624.0   117624.0        0\n",
       "4  2021-04-08  117624.0  118850.0  117486.0  118313.0   118313.0  8778200"
      ]
     },
     "execution_count": 102,
     "metadata": {},
     "output_type": "execute_result"
    }
   ],
   "source": [
    "DataSet_teste=pd.read_csv('FuturosMiniBovespaMaio.csv')\n",
    "DataSet_teste=DataSet_teste.dropna()\n",
    "DataSet_teste.head()\n"
   ]
  },
  {
   "cell_type": "code",
   "execution_count": 103,
   "metadata": {},
   "outputs": [
    {
     "data": {
      "text/plain": [
       "27"
      ]
     },
     "execution_count": 103,
     "metadata": {},
     "output_type": "execute_result"
    }
   ],
   "source": [
    "len(DataSet_teste)"
   ]
  },
  {
   "cell_type": "code",
   "execution_count": 104,
   "metadata": {},
   "outputs": [],
   "source": [
    "frames = [DataSet, DataSet_teste]\n",
    "base_completa = pd.concat(frames)\n"
   ]
  },
  {
   "cell_type": "code",
   "execution_count": 105,
   "metadata": {},
   "outputs": [],
   "source": [
    "base_completa= base_completa.drop(['Date','Adj Close','Volume'], axis = 1)\n",
    "#base_completa= base_completa.drop(['Date'], axis = 1)\n"
   ]
  },
  {
   "cell_type": "code",
   "execution_count": 106,
   "metadata": {},
   "outputs": [
    {
     "data": {
      "text/plain": [
       "332"
      ]
     },
     "execution_count": 106,
     "metadata": {},
     "output_type": "execute_result"
    }
   ],
   "source": [
    "len(base_completa)"
   ]
  },
  {
   "cell_type": "markdown",
   "metadata": {},
   "source": [
    "### Previsões (preco_real_teste)"
   ]
  },
  {
   "cell_type": "markdown",
   "metadata": {},
   "source": [
    "<br><img src=\"previsao_teste.jpeg\"><br>"
   ]
  },
  {
   "cell_type": "code",
   "execution_count": 107,
   "metadata": {},
   "outputs": [],
   "source": [
    "preco_real_teste = DataSet_teste.iloc[:, 5:6].values\n",
    "\n"
   ]
  },
  {
   "cell_type": "code",
   "execution_count": 108,
   "metadata": {},
   "outputs": [
    {
     "data": {
      "text/plain": [
       "array([[115253.],\n",
       "       [117518.],\n",
       "       [117499.],\n",
       "       [117624.],\n",
       "       [118313.],\n",
       "       [117670.],\n",
       "       [118812.],\n",
       "       [119297.],\n",
       "       [120295.],\n",
       "       [120701.],\n",
       "       [121114.],\n",
       "       [120934.],\n",
       "       [120062.],\n",
       "       [119371.],\n",
       "       [120530.],\n",
       "       [120595.],\n",
       "       [119388.],\n",
       "       [121053.],\n",
       "       [120066.],\n",
       "       [118894.],\n",
       "       [119209.],\n",
       "       [117712.],\n",
       "       [119564.],\n",
       "       [119921.],\n",
       "       [122038.],\n",
       "       [121909.],\n",
       "       [122964.]])"
      ]
     },
     "execution_count": 108,
     "metadata": {},
     "output_type": "execute_result"
    }
   ],
   "source": [
    "preco_real_teste"
   ]
  },
  {
   "cell_type": "code",
   "execution_count": 109,
   "metadata": {},
   "outputs": [
    {
     "data": {
      "text/plain": [
       "(47, 4)"
      ]
     },
     "execution_count": 109,
     "metadata": {},
     "output_type": "execute_result"
    }
   ],
   "source": [
    "entradas = base_completa[len(base_completa) - len(DataSet_teste) - NRecursao:].values\n",
    "entradas = scaler.transform(entradas)\n",
    "\n",
    "entradas.shape"
   ]
  },
  {
   "cell_type": "code",
   "execution_count": 110,
   "metadata": {},
   "outputs": [
    {
     "data": {
      "text/plain": [
       "(27, 20, 4)"
      ]
     },
     "execution_count": 110,
     "metadata": {},
     "output_type": "execute_result"
    }
   ],
   "source": [
    "DataSetTestLen = len(DataSet_teste)\n",
    "\n",
    "X_teste = []\n",
    "for i in range(NRecursao, DataSetTestLen+NRecursao):\n",
    "    X_teste.append(entradas[i-NRecursao:i, 0:NPrevisores])\n",
    "    \n",
    "X_teste = np.array(X_teste)\n",
    "X_teste.shape"
   ]
  },
  {
   "cell_type": "code",
   "execution_count": 111,
   "metadata": {},
   "outputs": [
    {
     "name": "stdout",
     "output_type": "stream",
     "text": [
      "118132.93\n",
      "119566.88888888889\n"
     ]
    }
   ],
   "source": [
    "previsoes = regressor.predict(X_teste)\n",
    "#previsoes = scaler.inverse_transform(previsoes) Problema formato\n",
    "\n",
    "previsoes = scaler_previsao.inverse_transform(previsoes)\n",
    "\n",
    "print(previsoes.mean())\n",
    "print(preco_real_teste.mean())"
   ]
  },
  {
   "cell_type": "code",
   "execution_count": 112,
   "metadata": {},
   "outputs": [
    {
     "data": {
      "text/plain": [
       "array([[115569.64 , 115285.54 , 114553.336, 114327.95 , 113938.59 ],\n",
       "       [115725.57 , 115434.3  , 114724.53 , 114553.27 , 114118.04 ],\n",
       "       [116106.39 , 115841.836, 115204.41 , 115132.445, 114664.65 ],\n",
       "       [116629.36 , 116421.29 , 115886.71 , 115926.67 , 115444.54 ],\n",
       "       [117195.36 , 117058.18 , 116637.41 , 116768.336, 116292.914],\n",
       "       [117696.72 , 117618.45 , 117301.21 , 117485.1  , 117028.29 ],\n",
       "       [118060.21 , 118015.72 , 117778.05 , 117981.57 , 117543.47 ],\n",
       "       [118283.88 , 118247.72 , 118062.84 , 118264.45 , 117839.055],\n",
       "       [118425.125, 118381.41 , 118230.445, 118421.266, 118001.164],\n",
       "       [118531.33 , 118473.38 , 118344.49 , 118526.43 , 118103.6  ],\n",
       "       [118645.64 , 118575.46 , 118466.484, 118648.836, 118217.18 ],\n",
       "       [118775.8  , 118697.734, 118611.13 , 118803.37 , 118359.   ],\n",
       "       [118927.74 , 118847.24 , 118789.87 , 118997.37 , 118541.3  ],\n",
       "       [119071.875, 118988.086, 118962.96 , 119182.58 , 118717.49 ],\n",
       "       [119177.01 , 119083.93 , 119088.34 , 119311.21 , 118838.97 ],\n",
       "       [119232.75 , 119122.63 , 119149.11 , 119365.984, 118886.56 ],\n",
       "       [119251.98 , 119120.89 , 119160.33 , 119366.6  , 118878.18 ],\n",
       "       [119239.81 , 119085.63 , 119129.08 , 119323.3  , 118822.805],\n",
       "       [119206.586, 119031.13 , 119070.51 , 119255.47 , 118739.53 ],\n",
       "       [119182.875, 118992.42 , 119026.336, 119207.95 , 118676.14 ],\n",
       "       [119161.33 , 118959.98 , 118989.35 , 119170.89 , 118623.805],\n",
       "       [119139.77 , 118930.   , 118957.41 , 119138.53 , 118578.68 ],\n",
       "       [119095.16 , 118875.02 , 118898.45 , 119074.72 , 118502.52 ],\n",
       "       [119028.31 , 118796.96 , 118811.81 , 118980.09 , 118395.17 ],\n",
       "       [118975.305, 118737.62 , 118743.2  , 118906.02 , 118310.125],\n",
       "       [118983.734, 118752.516, 118755.27 , 118924.89 , 118323.88 ],\n",
       "       [119094.02 , 118888.23 , 118904.4  , 119097.67 , 118503.75 ]],\n",
       "      dtype=float32)"
      ]
     },
     "execution_count": 112,
     "metadata": {},
     "output_type": "execute_result"
    }
   ],
   "source": [
    "previsoes"
   ]
  },
  {
   "cell_type": "code",
   "execution_count": 116,
   "metadata": {},
   "outputs": [
    {
     "data": {
      "image/png": "[encoded data removed]",
      "text/plain": [
       "<Figure size 1152x576 with 1 Axes>"
      ]
     },
     "metadata": {
      "needs_background": "light"
     },
     "output_type": "display_data"
    }
   ],
   "source": [
    "plt.figure (figsize = (16,8))\n",
    "\n",
    "plt.plot(preco_real_teste, color = 'red', label = 'Preço real')\n",
    "plt.plot(previsoes[:,[0]], color ='green', label = 'Previsões')\n",
    "#plt.plot(RNN, color = 'green', label = 'R[:,[0]]NN')\n",
    "\n",
    "\n",
    "plt.title('IBOBESPA')\n",
    "#plt.xlabel('Tempo')\n",
    "plt.ylabel('Valor')\n",
    "plt.legend()\n",
    "plt.show()"
   ]
  },
  {
   "cell_type": "code",
   "execution_count": null,
   "metadata": {},
   "outputs": [],
   "source": []
  },
  {
   "cell_type": "code",
   "execution_count": null,
   "metadata": {},
   "outputs": [],
   "source": []
  },
  {
   "cell_type": "code",
   "execution_count": null,
   "metadata": {},
   "outputs": [],
   "source": []
  }
 ],
 "metadata": {
  "kernelspec": {
   "display_name": "Python 3",
   "language": "python",
   "name": "python3"
  },
  "language_info": {
   "codemirror_mode": {
    "name": "ipython",
    "version": 3
   },
   "file_extension": ".py",
   "mimetype": "text/x-python",
   "name": "python",
   "nbconvert_exporter": "python",
   "pygments_lexer": "ipython3",
   "version": "3.7.3"
  }
 },
 "nbformat": 4,
 "nbformat_minor": 2
}
