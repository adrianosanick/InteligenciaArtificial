{
 "cells": [
  {
   "cell_type": "markdown",
   "metadata": {},
   "source": [
    "# Gradiente Descendente\n",
    "\n",
    "O gradiente descendente é um algoritmo de otimização que usa as derivadas da função objetivo\n",
    "para encontrar o ponto com maior inclinação. No processo, as variáveis a otimizar são deslocadas\n",
    "em uma direção negativa o qual reduzirá o valor da função objetivo.\n",
    "\n",
    "Algoritmo geral para atualizar os pesos com gradiente descendente:\n",
    "<p>\n",
    "<img src='RNA-Gradiente.png' /><br>\n",
    "</p>"
   ]
  },
  {
   "cell_type": "markdown",
   "metadata": {},
   "source": [
    "## Vamos implementar o algoritmo do Gradiente Descendente!\n",
    "#### Importando a biblioteca"
   ]
  },
  {
   "cell_type": "code",
   "execution_count": null,
   "metadata": {},
   "outputs": [],
   "source": [
    "import numpy as np"
   ]
  },
  {
   "cell_type": "markdown",
   "metadata": {},
   "source": [
    "#### Função do cáculo da sigmóide"
   ]
  },
  {
   "cell_type": "code",
   "execution_count": null,
   "metadata": {},
   "outputs": [],
   "source": [
    "def sigmoid(x):\n",
    "    return 1/(1+np.exp(-x))"
   ]
  },
  {
   "cell_type": "markdown",
   "metadata": {},
   "source": [
    "#### Derivada da função sigmóide"
   ]
  },
  {
   "cell_type": "code",
   "execution_count": null,
   "metadata": {},
   "outputs": [],
   "source": [
    "def sigmoid_prime(x):\n",
    "    return sigmoid(x) * (1 - sigmoid(x))"
   ]
  },
  {
   "cell_type": "markdown",
   "metadata": {},
   "source": [
    "#### Vetor dos valores de entrada e saídas"
   ]
  },
  {
   "cell_type": "code",
   "execution_count": null,
   "metadata": {},
   "outputs": [],
   "source": [
    "x = np.array([1, 2, 3, 4])\n",
    "y = np.array(0.5)\n",
    "b= 0.5"
   ]
  },
  {
   "cell_type": "markdown",
   "metadata": {},
   "source": [
    "#### Pesos iniciais das ligações sinápticas \n",
    "Nota: Inicializados aleatóriamente"
   ]
  },
  {
   "cell_type": "code",
   "execution_count": null,
   "metadata": {},
   "outputs": [],
   "source": [
    "w = np.array([0.5, -0.5, 0.3, 0.1])"
   ]
  },
  {
   "cell_type": "markdown",
   "metadata": {},
   "source": [
    "#### Taxa de Aprendizagem"
   ]
  },
  {
   "cell_type": "code",
   "execution_count": null,
   "metadata": {},
   "outputs": [],
   "source": [
    "learnrate = 0.5"
   ]
  },
  {
   "cell_type": "markdown",
   "metadata": {},
   "source": [
    "### Calcule um degrau de descida gradiente para cada peso"
   ]
  },
  {
   "cell_type": "markdown",
   "metadata": {},
   "source": [
    "#### Critério de parada\n",
    "* **Epochs**: Número de Épocas\n",
    "* **MinError**: Erro mínimo estipulado\n"
   ]
  },
  {
   "cell_type": "code",
   "execution_count": null,
   "metadata": {},
   "outputs": [],
   "source": [
    "#Número de Épocas\n",
    "epochs= None\n",
    "\n",
    "#Inicilizando del_w\n",
    "del_w= None\n",
    "\n",
    "for e in range(epochs):\n",
    "    # TODO: Calcule a combinação linear de entradas e pesos sinápticos\n",
    "    h = None\n",
    "\n",
    "    # TODO: Calcule a saída da Rede Neural\n",
    "    output = None\n",
    "\n",
    "    # TODO: Calculate error of neural network\n",
    "    error = None\n",
    "\n",
    "    # TODO: Calcule o termo de erro\n",
    "    error_term = None\n",
    "\n",
    "    # TODO: Calcule a variação do peso\n",
    "    del_w += None\n",
    "\n",
    "    # TODO: Atualização do Peso\n",
    "    w = None\n",
    "\n",
    "    print(error)\n"
   ]
  },
  {
   "cell_type": "code",
   "execution_count": null,
   "metadata": {},
   "outputs": [],
   "source": [
    "print('Saída da Rede Neural:')\n",
    "print(output)\n",
    "print('Erro:',error)\n"
   ]
  },
  {
   "cell_type": "code",
   "execution_count": null,
   "metadata": {},
   "outputs": [],
   "source": []
  }
 ],
 "metadata": {
  "kernelspec": {
   "display_name": "Python 3",
   "language": "python",
   "name": "python3"
  },
  "language_info": {
   "codemirror_mode": {
    "name": "ipython",
    "version": 3
   },
   "file_extension": ".py",
   "mimetype": "text/x-python",
   "name": "python",
   "nbconvert_exporter": "python",
   "pygments_lexer": "ipython3",
   "version": "3.7.3"
  }
 },
 "nbformat": 4,
 "nbformat_minor": 2
}
