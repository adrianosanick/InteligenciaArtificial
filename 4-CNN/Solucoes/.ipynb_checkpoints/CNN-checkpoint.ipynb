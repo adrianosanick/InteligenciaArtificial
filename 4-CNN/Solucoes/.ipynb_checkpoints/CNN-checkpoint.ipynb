{
 "cells": [
  {
   "cell_type": "markdown",
   "metadata": {},
   "source": [
    "# Redes Neurais Convolucionais\n",
    "\n",
    "\n",
    "Nesta competição, você escreverá um algoritmo para classificar se as imagens contêm um cachorro ou um gato. Isso é fácil para humanos, cães e gatos. Seu computador terá um pouco mais de dificuldade. \n",
    "\n",
    "<img src='woof_meow.jpg' />\n",
    "\n",
    "\n",
    "### Problema: Dada uma imagem, é um cachorro ou um gato?\n",
    "\n",
    "Para essa tarefa, usaremos uma arquitetura de Rede Neural Convolucional. Essa arquitetura usa métodos de convolução para poder prever características específicas de uma imagem de acordo com o que aprende em um conjunto de treinamento. Por exemplo, podemos dizer que é possível perceber a diferença ao procurar bigodes em um gato ou focinho comprido em um cachorro. Mas uma Rede Neural Convolucional procura muitos outros recursos baseados no que temos em um conjunto de treinamento.\n",
    "\n",
    "##### Conjunto de dados de treino:  2.000 imagens de cães e 2.000 imagens de gatos.\n",
    "\n",
    "##### Conjunto de dados de validação: 500 imagens de cães e 500 imagens de gatos.\n",
    "\n",
    "Conjunto de dados de teste: Teremos x imagens de cães e gatos.\n",
    "\n",
    "Essa á uma questão onde os iniciantes tem muitas dúvidas. Por que precisamos de dados de treino, validação e teste? Usamos os dados de treino para treinar o algoritmo e então criar o modelo preditivo. Usamos os dados de validação, para avaliar o modelo durante o treinamento. Usamos os dados de teste para validar a performance do modelo já treinado, ou seja, apresentamos ao modelo dados que ele não viu durante o treinamento, a fim de garantir que ele é capaz de fazer previsões."
   ]
  },
  {
   "cell_type": "markdown",
   "metadata": {},
   "source": [
    "# **Vamos começar!**\n",
    "\n",
    "\n",
    "\n",
    "## Importando as bibliotecas"
   ]
  },
  {
   "cell_type": "code",
   "execution_count": 1,
   "metadata": {},
   "outputs": [
    {
     "name": "stderr",
     "output_type": "stream",
     "text": [
      "Using TensorFlow backend.\n"
     ]
    }
   ],
   "source": [
    "from keras.models import Sequential\n",
    "from keras.layers import Conv2D, MaxPooling2D, Flatten, Dense, Dropout\n",
    "from keras.layers.normalization import BatchNormalization\n",
    "from keras.preprocessing.image import ImageDataGenerator\n",
    "import numpy as np\n",
    "from keras.preprocessing import image"
   ]
  },
  {
   "cell_type": "markdown",
   "metadata": {},
   "source": [
    "### Arquitetura da Rede Convolucional\n",
    "\n",
    "<img src='arquitetura.png'/>"
   ]
  },
  {
   "cell_type": "code",
   "execution_count": 2,
   "metadata": {},
   "outputs": [
    {
     "name": "stdout",
     "output_type": "stream",
     "text": [
      "WARNING:tensorflow:From C:\\Users\\aluno\\Anaconda3\\lib\\site-packages\\keras\\backend\\tensorflow_backend.py:4070: The name tf.nn.max_pool is deprecated. Please use tf.nn.max_pool2d instead.\n",
      "\n",
      "WARNING:tensorflow:From C:\\Users\\aluno\\Anaconda3\\lib\\site-packages\\tensorflow\\python\\ops\\nn_impl.py:180: add_dispatch_support.<locals>.wrapper (from tensorflow.python.ops.array_ops) is deprecated and will be removed in a future version.\n",
      "Instructions for updating:\n",
      "Use tf.where in 2.0, which has the same broadcast rule as np.where\n"
     ]
    }
   ],
   "source": [
    "classificador = Sequential()\n",
    "classificador.add(Conv2D(32, (3, 3), activation='relu', kernel_initializer='he_uniform',\n",
    "                padding='same', input_shape=(224, 224, 3)))\n",
    "classificador.add(BatchNormalization())\n",
    "classificador.add(MaxPooling2D((2, 2)))\n",
    "classificador.add(Dropout(0.2))  \n",
    "\n",
    "classificador.add(Conv2D(64, (3, 3), activation='relu', kernel_initializer='he_uniform', padding='same'))\n",
    "classificador.add(BatchNormalization())\n",
    "classificador.add(MaxPooling2D((2, 2)))\n",
    "classificador.add(Dropout(0.25))\n",
    "\n",
    "classificador.add(Conv2D(128, (3, 3), activation='relu', kernel_initializer='he_uniform', padding='same'))\n",
    "classificador.add(BatchNormalization())\n",
    "classificador.add(MaxPooling2D((2, 2)))\n",
    "classificador.add(Dropout(0.3))\n",
    "\n",
    "classificador.add(Flatten())\n",
    "classificador.add(Dense(1024, activation='relu', kernel_initializer='he_uniform'))\n",
    "classificador.add(BatchNormalization())\n",
    "classificador.add(Dropout(0.35))\n",
    "classificadorl.add(Dense(128, activation='relu', kernel_initializer='he_uniform'))\n",
    "classificador.add(BatchNormalization())\n",
    "classificador.add(Dropout(0.4))\n",
    "classificador.add(Dense(2, activation='relu', kernel_initializer='he_uniform'))\n",
    "classificador.add(BatchNormalization())\n",
    "classificador.add(Dropout(0.5))\n",
    "classificador.add(Dense(1, activation='sigmoid'))\n",
    "\n",
    "model.compile(optimizer='adam', loss='binary_crossentropy', metrics='accuracy')"
   ]
  },
  {
   "cell_type": "markdown",
   "metadata": {},
   "source": [
    "### Vamos gerar algumas imagens \n",
    "\n",
    "<img src= 'ImageGenerator.png' widht=300/>\n"
   ]
  },
  {
   "cell_type": "markdown",
   "metadata": {},
   "source": [
    "### Normalizar as imagens"
   ]
  },
  {
   "cell_type": "code",
   "execution_count": 3,
   "metadata": {},
   "outputs": [],
   "source": [
    "gerador_treinamento = ImageDataGenerator(rescale = 1./255,\n",
    "                                         rotation_range = 7,\n",
    "                                         horizontal_flip = True,\n",
    "                                         shear_range = 0.2,\n",
    "                                         height_shift_range = 0.07,\n",
    "                                         zoom_range = 0.2)\n",
    "gerador_teste = ImageDataGenerator(rescale = 1./255)"
   ]
  },
  {
   "cell_type": "code",
   "execution_count": 4,
   "metadata": {},
   "outputs": [
    {
     "name": "stdout",
     "output_type": "stream",
     "text": [
      "Found 4000 images belonging to 2 classes.\n"
     ]
    }
   ],
   "source": [
    "base_treinamento = gerador_treinamento.flow_from_directory('dataset/training_set',\n",
    "                                                           target_size = (64, 64),\n",
    "                                                           batch_size = 32,\n",
    "                                                           class_mode = 'binary')"
   ]
  },
  {
   "cell_type": "code",
   "execution_count": 5,
   "metadata": {},
   "outputs": [
    {
     "name": "stdout",
     "output_type": "stream",
     "text": [
      "Found 1000 images belonging to 2 classes.\n"
     ]
    }
   ],
   "source": [
    "base_teste = gerador_teste.flow_from_directory('dataset/test_set',\n",
    "                                               target_size = (64, 64),\n",
    "                                               batch_size = 32,\n",
    "                                               class_mode = 'binary')"
   ]
  },
  {
   "cell_type": "markdown",
   "metadata": {},
   "source": [
    "## Treinamento"
   ]
  },
  {
   "cell_type": "code",
   "execution_count": 6,
   "metadata": {},
   "outputs": [
    {
     "name": "stdout",
     "output_type": "stream",
     "text": [
      "WARNING:tensorflow:From C:\\Users\\aluno\\Anaconda3\\lib\\site-packages\\keras\\backend\\tensorflow_backend.py:422: The name tf.global_variables is deprecated. Please use tf.compat.v1.global_variables instead.\n",
      "\n",
      "Epoch 1/10\n",
      "125/125 [==============================] - 84s 672ms/step - loss: 0.7932 - accuracy: 0.5763 - val_loss: 0.8130 - val_accuracy: 0.5440\n",
      "Epoch 2/10\n",
      "125/125 [==============================] - 20s 157ms/step - loss: 0.6748 - accuracy: 0.6183 - val_loss: 1.1102 - val_accuracy: 0.5100\n",
      "Epoch 3/10\n",
      "125/125 [==============================] - 16s 129ms/step - loss: 0.6216 - accuracy: 0.6522 - val_loss: 0.9725 - val_accuracy: 0.6270\n",
      "Epoch 4/10\n",
      "125/125 [==============================] - 26s 206ms/step - loss: 0.6087 - accuracy: 0.6672 - val_loss: 0.6191 - val_accuracy: 0.6680\n",
      "Epoch 5/10\n",
      "125/125 [==============================] - 36s 287ms/step - loss: 0.5925 - accuracy: 0.6850 - val_loss: 0.5773 - val_accuracy: 0.6480\n",
      "Epoch 6/10\n",
      "125/125 [==============================] - 30s 239ms/step - loss: 0.5835 - accuracy: 0.7023 - val_loss: 0.6801 - val_accuracy: 0.6980\n",
      "Epoch 7/10\n",
      "125/125 [==============================] - 37s 293ms/step - loss: 0.5511 - accuracy: 0.7180 - val_loss: 0.5416 - val_accuracy: 0.6800\n",
      "Epoch 8/10\n",
      "125/125 [==============================] - 32s 254ms/step - loss: 0.5338 - accuracy: 0.7360 - val_loss: 0.6818 - val_accuracy: 0.6510\n",
      "Epoch 9/10\n",
      "125/125 [==============================] - 39s 313ms/step - loss: 0.5132 - accuracy: 0.7408 - val_loss: 0.7622 - val_accuracy: 0.6720\n",
      "Epoch 10/10\n",
      "125/125 [==============================] - 33s 263ms/step - loss: 0.4932 - accuracy: 0.7640 - val_loss: 0.4165 - val_accuracy: 0.7490\n"
     ]
    },
    {
     "data": {
      "text/plain": [
       "<keras.callbacks.callbacks.History at 0x1fd0812d518>"
      ]
     },
     "execution_count": 6,
     "metadata": {},
     "output_type": "execute_result"
    }
   ],
   "source": [
    "classificador.fit_generator(base_treinamento, steps_per_epoch = 4000 / 32,\n",
    "                            epochs = 10, validation_data = base_teste,\n",
    "                            validation_steps = 1000 / 32)"
   ]
  },
  {
   "cell_type": "markdown",
   "metadata": {},
   "source": [
    "## Teste *"
   ]
  },
  {
   "cell_type": "code",
   "execution_count": 7,
   "metadata": {},
   "outputs": [],
   "source": [
    "imagem_teste = image.load_img('dataset/test_set/gato/cat.3910.jpg',\n",
    "                              target_size = (64,64))"
   ]
  },
  {
   "cell_type": "code",
   "execution_count": 8,
   "metadata": {},
   "outputs": [
    {
     "data": {
      "image/png": "[encoded data removed]",
      "text/plain": [
       "<PIL.Image.Image image mode=RGB size=64x64 at 0x1FD09EB9E48>"
      ]
     },
     "execution_count": 8,
     "metadata": {},
     "output_type": "execute_result"
    }
   ],
   "source": [
    "imagem_teste"
   ]
  },
  {
   "cell_type": "code",
   "execution_count": 9,
   "metadata": {},
   "outputs": [],
   "source": [
    "imagem_teste = image.img_to_array(imagem_teste)\n",
    "imagem_teste /= 255"
   ]
  },
  {
   "cell_type": "code",
   "execution_count": 10,
   "metadata": {},
   "outputs": [
    {
     "data": {
      "text/plain": [
       "array([[[0.12156863, 0.2       , 0.29411766],\n",
       "        [0.14117648, 0.22745098, 0.30980393],\n",
       "        [0.08627451, 0.13725491, 0.21176471],\n",
       "        ...,\n",
       "        [0.20392157, 0.32156864, 0.42352942],\n",
       "        [0.15294118, 0.25882354, 0.3647059 ],\n",
       "        [0.12941177, 0.21568628, 0.30980393]],\n",
       "\n",
       "       [[0.11764706, 0.15686275, 0.25490198],\n",
       "        [0.10196079, 0.20392157, 0.3019608 ],\n",
       "        [0.15294118, 0.23137255, 0.3372549 ],\n",
       "        ...,\n",
       "        [0.15294118, 0.24705882, 0.35686275],\n",
       "        [0.14509805, 0.2509804 , 0.35686275],\n",
       "        [0.19607843, 0.3372549 , 0.43137255]],\n",
       "\n",
       "       [[0.08235294, 0.15686275, 0.18039216],\n",
       "        [0.04313726, 0.08627451, 0.17254902],\n",
       "        [0.09411765, 0.19607843, 0.25490198],\n",
       "        ...,\n",
       "        [0.09803922, 0.16470589, 0.28235295],\n",
       "        [0.11764706, 0.23529412, 0.3372549 ],\n",
       "        [0.1882353 , 0.32156864, 0.42745098]],\n",
       "\n",
       "       ...,\n",
       "\n",
       "       [[0.6       , 0.5803922 , 0.5686275 ],\n",
       "        [0.54509807, 0.5254902 , 0.5137255 ],\n",
       "        [0.56078434, 0.5372549 , 0.54509807],\n",
       "        ...,\n",
       "        [0.48235294, 0.5372549 , 0.5803922 ],\n",
       "        [0.4862745 , 0.5254902 , 0.57254905],\n",
       "        [0.5764706 , 0.6       , 0.654902  ]],\n",
       "\n",
       "       [[0.5294118 , 0.50980395, 0.49803922],\n",
       "        [0.54901963, 0.5294118 , 0.5176471 ],\n",
       "        [0.5058824 , 0.49803922, 0.5176471 ],\n",
       "        ...,\n",
       "        [0.45490196, 0.50980395, 0.5529412 ],\n",
       "        [0.5254902 , 0.5647059 , 0.6117647 ],\n",
       "        [0.5254902 , 0.5647059 , 0.6       ]],\n",
       "\n",
       "       [[0.54901963, 0.5176471 , 0.5058824 ],\n",
       "        [0.4862745 , 0.4745098 , 0.5019608 ],\n",
       "        [0.5372549 , 0.5372549 , 0.54509807],\n",
       "        ...,\n",
       "        [0.49019608, 0.5176471 , 0.54901963],\n",
       "        [0.50980395, 0.54509807, 0.6117647 ],\n",
       "        [0.5882353 , 0.627451  , 0.6745098 ]]], dtype=float32)"
      ]
     },
     "execution_count": 10,
     "metadata": {},
     "output_type": "execute_result"
    }
   ],
   "source": [
    "imagem_teste"
   ]
  },
  {
   "cell_type": "code",
   "execution_count": 11,
   "metadata": {},
   "outputs": [],
   "source": [
    "imagem_teste = np.expand_dims(imagem_teste, axis = 0)"
   ]
  },
  {
   "cell_type": "code",
   "execution_count": 12,
   "metadata": {},
   "outputs": [
    {
     "data": {
      "text/plain": [
       "array([[[[0.12156863, 0.2       , 0.29411766],\n",
       "         [0.14117648, 0.22745098, 0.30980393],\n",
       "         [0.08627451, 0.13725491, 0.21176471],\n",
       "         ...,\n",
       "         [0.20392157, 0.32156864, 0.42352942],\n",
       "         [0.15294118, 0.25882354, 0.3647059 ],\n",
       "         [0.12941177, 0.21568628, 0.30980393]],\n",
       "\n",
       "        [[0.11764706, 0.15686275, 0.25490198],\n",
       "         [0.10196079, 0.20392157, 0.3019608 ],\n",
       "         [0.15294118, 0.23137255, 0.3372549 ],\n",
       "         ...,\n",
       "         [0.15294118, 0.24705882, 0.35686275],\n",
       "         [0.14509805, 0.2509804 , 0.35686275],\n",
       "         [0.19607843, 0.3372549 , 0.43137255]],\n",
       "\n",
       "        [[0.08235294, 0.15686275, 0.18039216],\n",
       "         [0.04313726, 0.08627451, 0.17254902],\n",
       "         [0.09411765, 0.19607843, 0.25490198],\n",
       "         ...,\n",
       "         [0.09803922, 0.16470589, 0.28235295],\n",
       "         [0.11764706, 0.23529412, 0.3372549 ],\n",
       "         [0.1882353 , 0.32156864, 0.42745098]],\n",
       "\n",
       "        ...,\n",
       "\n",
       "        [[0.6       , 0.5803922 , 0.5686275 ],\n",
       "         [0.54509807, 0.5254902 , 0.5137255 ],\n",
       "         [0.56078434, 0.5372549 , 0.54509807],\n",
       "         ...,\n",
       "         [0.48235294, 0.5372549 , 0.5803922 ],\n",
       "         [0.4862745 , 0.5254902 , 0.57254905],\n",
       "         [0.5764706 , 0.6       , 0.654902  ]],\n",
       "\n",
       "        [[0.5294118 , 0.50980395, 0.49803922],\n",
       "         [0.54901963, 0.5294118 , 0.5176471 ],\n",
       "         [0.5058824 , 0.49803922, 0.5176471 ],\n",
       "         ...,\n",
       "         [0.45490196, 0.50980395, 0.5529412 ],\n",
       "         [0.5254902 , 0.5647059 , 0.6117647 ],\n",
       "         [0.5254902 , 0.5647059 , 0.6       ]],\n",
       "\n",
       "        [[0.54901963, 0.5176471 , 0.5058824 ],\n",
       "         [0.4862745 , 0.4745098 , 0.5019608 ],\n",
       "         [0.5372549 , 0.5372549 , 0.54509807],\n",
       "         ...,\n",
       "         [0.49019608, 0.5176471 , 0.54901963],\n",
       "         [0.50980395, 0.54509807, 0.6117647 ],\n",
       "         [0.5882353 , 0.627451  , 0.6745098 ]]]], dtype=float32)"
      ]
     },
     "execution_count": 12,
     "metadata": {},
     "output_type": "execute_result"
    }
   ],
   "source": [
    "imagem_teste"
   ]
  },
  {
   "cell_type": "code",
   "execution_count": 13,
   "metadata": {},
   "outputs": [
    {
     "data": {
      "text/plain": [
       "array([[0.30037352]], dtype=float32)"
      ]
     },
     "execution_count": 13,
     "metadata": {},
     "output_type": "execute_result"
    }
   ],
   "source": [
    "previsao = classificador.predict(imagem_teste)\n",
    "previsao"
   ]
  },
  {
   "cell_type": "code",
   "execution_count": 14,
   "metadata": {},
   "outputs": [
    {
     "data": {
      "text/plain": [
       "{'cachorro': 0, 'gato': 1}"
      ]
     },
     "execution_count": 14,
     "metadata": {},
     "output_type": "execute_result"
    }
   ],
   "source": [
    "base_treinamento.class_indices"
   ]
  },
  {
   "cell_type": "code",
   "execution_count": 15,
   "metadata": {},
   "outputs": [
    {
     "data": {
      "text/plain": [
       "array([[False]])"
      ]
     },
     "execution_count": 15,
     "metadata": {},
     "output_type": "execute_result"
    }
   ],
   "source": [
    "previsao = (previsao > 0.5)\n",
    "previsao"
   ]
  },
  {
   "cell_type": "code",
   "execution_count": null,
   "metadata": {},
   "outputs": [],
   "source": []
  }
 ],
 "metadata": {
  "kernelspec": {
   "display_name": "Python 3",
   "language": "python",
   "name": "python3"
  },
  "language_info": {
   "codemirror_mode": {
    "name": "ipython",
    "version": 3
   },
   "file_extension": ".py",
   "mimetype": "text/x-python",
   "name": "python",
   "nbconvert_exporter": "python",
   "pygments_lexer": "ipython3",
   "version": "3.7.3"
  }
 },
 "nbformat": 4,
 "nbformat_minor": 2
}
